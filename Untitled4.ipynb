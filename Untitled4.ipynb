{
  "nbformat": 4,
  "nbformat_minor": 0,
  "metadata": {
    "colab": {
      "name": "Untitled4.ipynb",
      "provenance": [],
      "collapsed_sections": [],
      "authorship_tag": "ABX9TyNiJheLWS+tSiMwgWUaKG+Z",
      "include_colab_link": true
    },
    "kernelspec": {
      "name": "python3",
      "display_name": "Python 3"
    },
    "language_info": {
      "name": "python"
    }
  },
  "cells": [
    {
      "cell_type": "markdown",
      "metadata": {
        "id": "view-in-github",
        "colab_type": "text"
      },
      "source": [
        "<a href=\"https://colab.research.google.com/github/Dayangani/Capstone-Project/blob/main/Untitled4.ipynb\" target=\"_parent\"><img src=\"https://colab.research.google.com/assets/colab-badge.svg\" alt=\"Open In Colab\"/></a>"
      ]
    },
    {
      "cell_type": "code",
      "metadata": {
        "id": "CRnYclkBipya"
      },
      "source": [
        "import numpy as np\n",
        "import pandas as pd\n",
        "import tensorflow as tf\n",
        "import keras\n",
        "\n",
        "import matplotlib.pyplot as plt\n",
        "%matplotlib inline\n",
        "\n",
        "import seaborn as sns\n",
        "sns.set(palette=\"Set2\")\n",
        "\n",
        "from sklearn.model_selection import train_test_split\n",
        "from sklearn.metrics import (accuracy_score, f1_score,average_precision_score, confusion_matrix,\n",
        "                             average_precision_score, precision_score, recall_score, roc_auc_score, )\n",
        "from mlxtend.plotting import plot_confusion_matrix\n",
        "\n",
        "from sklearn.naive_bayes import GaussianNB\n",
        "from sklearn.linear_model import LogisticRegression\n",
        "from sklearn import tree\n",
        "from sklearn.neighbors import KNeighborsClassifier\n",
        "from sklearn.ensemble import RandomForestClassifier\n",
        "from sklearn.preprocessing import LabelEncoder, MinMaxScaler, StandardScaler\n",
        "\n",
        "# Model evaluation\n",
        "from sklearn import metrics\n",
        "\n",
        "from xgboost import XGBClassifier, plot_importance\n",
        "from imblearn.over_sampling import SMOTE\n",
        "# Classifier algorithms\n",
        "from sklearn.linear_model import LogisticRegression\n",
        "from sklearn.tree import DecisionTreeClassifier\n",
        "from sklearn.ensemble import RandomForestClassifier\n",
        "# Data visualization\n",
        "import matplotlib.pyplot as plt\n",
        "from matplotlib import cm # Colomaps\n",
        "import seaborn as sns\n",
        "from sklearn import tree\n"
      ],
      "execution_count": 53,
      "outputs": []
    },
    {
      "cell_type": "code",
      "metadata": {
        "colab": {
          "resources": {
            "http://localhost:8080/nbextensions/google.colab/files.js": {
              "data": "Ly8gQ29weXJpZ2h0IDIwMTcgR29vZ2xlIExMQwovLwovLyBMaWNlbnNlZCB1bmRlciB0aGUgQXBhY2hlIExpY2Vuc2UsIFZlcnNpb24gMi4wICh0aGUgIkxpY2Vuc2UiKTsKLy8geW91IG1heSBub3QgdXNlIHRoaXMgZmlsZSBleGNlcHQgaW4gY29tcGxpYW5jZSB3aXRoIHRoZSBMaWNlbnNlLgovLyBZb3UgbWF5IG9idGFpbiBhIGNvcHkgb2YgdGhlIExpY2Vuc2UgYXQKLy8KLy8gICAgICBodHRwOi8vd3d3LmFwYWNoZS5vcmcvbGljZW5zZXMvTElDRU5TRS0yLjAKLy8KLy8gVW5sZXNzIHJlcXVpcmVkIGJ5IGFwcGxpY2FibGUgbGF3IG9yIGFncmVlZCB0byBpbiB3cml0aW5nLCBzb2Z0d2FyZQovLyBkaXN0cmlidXRlZCB1bmRlciB0aGUgTGljZW5zZSBpcyBkaXN0cmlidXRlZCBvbiBhbiAiQVMgSVMiIEJBU0lTLAovLyBXSVRIT1VUIFdBUlJBTlRJRVMgT1IgQ09ORElUSU9OUyBPRiBBTlkgS0lORCwgZWl0aGVyIGV4cHJlc3Mgb3IgaW1wbGllZC4KLy8gU2VlIHRoZSBMaWNlbnNlIGZvciB0aGUgc3BlY2lmaWMgbGFuZ3VhZ2UgZ292ZXJuaW5nIHBlcm1pc3Npb25zIGFuZAovLyBsaW1pdGF0aW9ucyB1bmRlciB0aGUgTGljZW5zZS4KCi8qKgogKiBAZmlsZW92ZXJ2aWV3IEhlbHBlcnMgZm9yIGdvb2dsZS5jb2xhYiBQeXRob24gbW9kdWxlLgogKi8KKGZ1bmN0aW9uKHNjb3BlKSB7CmZ1bmN0aW9uIHNwYW4odGV4dCwgc3R5bGVBdHRyaWJ1dGVzID0ge30pIHsKICBjb25zdCBlbGVtZW50ID0gZG9jdW1lbnQuY3JlYXRlRWxlbWVudCgnc3BhbicpOwogIGVsZW1lbnQudGV4dENvbnRlbnQgPSB0ZXh0OwogIGZvciAoY29uc3Qga2V5IG9mIE9iamVjdC5rZXlzKHN0eWxlQXR0cmlidXRlcykpIHsKICAgIGVsZW1lbnQuc3R5bGVba2V5XSA9IHN0eWxlQXR0cmlidXRlc1trZXldOwogIH0KICByZXR1cm4gZWxlbWVudDsKfQoKLy8gTWF4IG51bWJlciBvZiBieXRlcyB3aGljaCB3aWxsIGJlIHVwbG9hZGVkIGF0IGEgdGltZS4KY29uc3QgTUFYX1BBWUxPQURfU0laRSA9IDEwMCAqIDEwMjQ7CgpmdW5jdGlvbiBfdXBsb2FkRmlsZXMoaW5wdXRJZCwgb3V0cHV0SWQpIHsKICBjb25zdCBzdGVwcyA9IHVwbG9hZEZpbGVzU3RlcChpbnB1dElkLCBvdXRwdXRJZCk7CiAgY29uc3Qgb3V0cHV0RWxlbWVudCA9IGRvY3VtZW50LmdldEVsZW1lbnRCeUlkKG91dHB1dElkKTsKICAvLyBDYWNoZSBzdGVwcyBvbiB0aGUgb3V0cHV0RWxlbWVudCB0byBtYWtlIGl0IGF2YWlsYWJsZSBmb3IgdGhlIG5leHQgY2FsbAogIC8vIHRvIHVwbG9hZEZpbGVzQ29udGludWUgZnJvbSBQeXRob24uCiAgb3V0cHV0RWxlbWVudC5zdGVwcyA9IHN0ZXBzOwoKICByZXR1cm4gX3VwbG9hZEZpbGVzQ29udGludWUob3V0cHV0SWQpOwp9CgovLyBUaGlzIGlzIHJvdWdobHkgYW4gYXN5bmMgZ2VuZXJhdG9yIChub3Qgc3VwcG9ydGVkIGluIHRoZSBicm93c2VyIHlldCksCi8vIHdoZXJlIHRoZXJlIGFyZSBtdWx0aXBsZSBhc3luY2hyb25vdXMgc3RlcHMgYW5kIHRoZSBQeXRob24gc2lkZSBpcyBnb2luZwovLyB0byBwb2xsIGZvciBjb21wbGV0aW9uIG9mIGVhY2ggc3RlcC4KLy8gVGhpcyB1c2VzIGEgUHJvbWlzZSB0byBibG9jayB0aGUgcHl0aG9uIHNpZGUgb24gY29tcGxldGlvbiBvZiBlYWNoIHN0ZXAsCi8vIHRoZW4gcGFzc2VzIHRoZSByZXN1bHQgb2YgdGhlIHByZXZpb3VzIHN0ZXAgYXMgdGhlIGlucHV0IHRvIHRoZSBuZXh0IHN0ZXAuCmZ1bmN0aW9uIF91cGxvYWRGaWxlc0NvbnRpbnVlKG91dHB1dElkKSB7CiAgY29uc3Qgb3V0cHV0RWxlbWVudCA9IGRvY3VtZW50LmdldEVsZW1lbnRCeUlkKG91dHB1dElkKTsKICBjb25zdCBzdGVwcyA9IG91dHB1dEVsZW1lbnQuc3RlcHM7CgogIGNvbnN0IG5leHQgPSBzdGVwcy5uZXh0KG91dHB1dEVsZW1lbnQubGFzdFByb21pc2VWYWx1ZSk7CiAgcmV0dXJuIFByb21pc2UucmVzb2x2ZShuZXh0LnZhbHVlLnByb21pc2UpLnRoZW4oKHZhbHVlKSA9PiB7CiAgICAvLyBDYWNoZSB0aGUgbGFzdCBwcm9taXNlIHZhbHVlIHRvIG1ha2UgaXQgYXZhaWxhYmxlIHRvIHRoZSBuZXh0CiAgICAvLyBzdGVwIG9mIHRoZSBnZW5lcmF0b3IuCiAgICBvdXRwdXRFbGVtZW50Lmxhc3RQcm9taXNlVmFsdWUgPSB2YWx1ZTsKICAgIHJldHVybiBuZXh0LnZhbHVlLnJlc3BvbnNlOwogIH0pOwp9CgovKioKICogR2VuZXJhdG9yIGZ1bmN0aW9uIHdoaWNoIGlzIGNhbGxlZCBiZXR3ZWVuIGVhY2ggYXN5bmMgc3RlcCBvZiB0aGUgdXBsb2FkCiAqIHByb2Nlc3MuCiAqIEBwYXJhbSB7c3RyaW5nfSBpbnB1dElkIEVsZW1lbnQgSUQgb2YgdGhlIGlucHV0IGZpbGUgcGlja2VyIGVsZW1lbnQuCiAqIEBwYXJhbSB7c3RyaW5nfSBvdXRwdXRJZCBFbGVtZW50IElEIG9mIHRoZSBvdXRwdXQgZGlzcGxheS4KICogQHJldHVybiB7IUl0ZXJhYmxlPCFPYmplY3Q+fSBJdGVyYWJsZSBvZiBuZXh0IHN0ZXBzLgogKi8KZnVuY3Rpb24qIHVwbG9hZEZpbGVzU3RlcChpbnB1dElkLCBvdXRwdXRJZCkgewogIGNvbnN0IGlucHV0RWxlbWVudCA9IGRvY3VtZW50LmdldEVsZW1lbnRCeUlkKGlucHV0SWQpOwogIGlucHV0RWxlbWVudC5kaXNhYmxlZCA9IGZhbHNlOwoKICBjb25zdCBvdXRwdXRFbGVtZW50ID0gZG9jdW1lbnQuZ2V0RWxlbWVudEJ5SWQob3V0cHV0SWQpOwogIG91dHB1dEVsZW1lbnQuaW5uZXJIVE1MID0gJyc7CgogIGNvbnN0IHBpY2tlZFByb21pc2UgPSBuZXcgUHJvbWlzZSgocmVzb2x2ZSkgPT4gewogICAgaW5wdXRFbGVtZW50LmFkZEV2ZW50TGlzdGVuZXIoJ2NoYW5nZScsIChlKSA9PiB7CiAgICAgIHJlc29sdmUoZS50YXJnZXQuZmlsZXMpOwogICAgfSk7CiAgfSk7CgogIGNvbnN0IGNhbmNlbCA9IGRvY3VtZW50LmNyZWF0ZUVsZW1lbnQoJ2J1dHRvbicpOwogIGlucHV0RWxlbWVudC5wYXJlbnRFbGVtZW50LmFwcGVuZENoaWxkKGNhbmNlbCk7CiAgY2FuY2VsLnRleHRDb250ZW50ID0gJ0NhbmNlbCB1cGxvYWQnOwogIGNvbnN0IGNhbmNlbFByb21pc2UgPSBuZXcgUHJvbWlzZSgocmVzb2x2ZSkgPT4gewogICAgY2FuY2VsLm9uY2xpY2sgPSAoKSA9PiB7CiAgICAgIHJlc29sdmUobnVsbCk7CiAgICB9OwogIH0pOwoKICAvLyBXYWl0IGZvciB0aGUgdXNlciB0byBwaWNrIHRoZSBmaWxlcy4KICBjb25zdCBmaWxlcyA9IHlpZWxkIHsKICAgIHByb21pc2U6IFByb21pc2UucmFjZShbcGlja2VkUHJvbWlzZSwgY2FuY2VsUHJvbWlzZV0pLAogICAgcmVzcG9uc2U6IHsKICAgICAgYWN0aW9uOiAnc3RhcnRpbmcnLAogICAgfQogIH07CgogIGNhbmNlbC5yZW1vdmUoKTsKCiAgLy8gRGlzYWJsZSB0aGUgaW5wdXQgZWxlbWVudCBzaW5jZSBmdXJ0aGVyIHBpY2tzIGFyZSBub3QgYWxsb3dlZC4KICBpbnB1dEVsZW1lbnQuZGlzYWJsZWQgPSB0cnVlOwoKICBpZiAoIWZpbGVzKSB7CiAgICByZXR1cm4gewogICAgICByZXNwb25zZTogewogICAgICAgIGFjdGlvbjogJ2NvbXBsZXRlJywKICAgICAgfQogICAgfTsKICB9CgogIGZvciAoY29uc3QgZmlsZSBvZiBmaWxlcykgewogICAgY29uc3QgbGkgPSBkb2N1bWVudC5jcmVhdGVFbGVtZW50KCdsaScpOwogICAgbGkuYXBwZW5kKHNwYW4oZmlsZS5uYW1lLCB7Zm9udFdlaWdodDogJ2JvbGQnfSkpOwogICAgbGkuYXBwZW5kKHNwYW4oCiAgICAgICAgYCgke2ZpbGUudHlwZSB8fCAnbi9hJ30pIC0gJHtmaWxlLnNpemV9IGJ5dGVzLCBgICsKICAgICAgICBgbGFzdCBtb2RpZmllZDogJHsKICAgICAgICAgICAgZmlsZS5sYXN0TW9kaWZpZWREYXRlID8gZmlsZS5sYXN0TW9kaWZpZWREYXRlLnRvTG9jYWxlRGF0ZVN0cmluZygpIDoKICAgICAgICAgICAgICAgICAgICAgICAgICAgICAgICAgICAgJ24vYSd9IC0gYCkpOwogICAgY29uc3QgcGVyY2VudCA9IHNwYW4oJzAlIGRvbmUnKTsKICAgIGxpLmFwcGVuZENoaWxkKHBlcmNlbnQpOwoKICAgIG91dHB1dEVsZW1lbnQuYXBwZW5kQ2hpbGQobGkpOwoKICAgIGNvbnN0IGZpbGVEYXRhUHJvbWlzZSA9IG5ldyBQcm9taXNlKChyZXNvbHZlKSA9PiB7CiAgICAgIGNvbnN0IHJlYWRlciA9IG5ldyBGaWxlUmVhZGVyKCk7CiAgICAgIHJlYWRlci5vbmxvYWQgPSAoZSkgPT4gewogICAgICAgIHJlc29sdmUoZS50YXJnZXQucmVzdWx0KTsKICAgICAgfTsKICAgICAgcmVhZGVyLnJlYWRBc0FycmF5QnVmZmVyKGZpbGUpOwogICAgfSk7CiAgICAvLyBXYWl0IGZvciB0aGUgZGF0YSB0byBiZSByZWFkeS4KICAgIGxldCBmaWxlRGF0YSA9IHlpZWxkIHsKICAgICAgcHJvbWlzZTogZmlsZURhdGFQcm9taXNlLAogICAgICByZXNwb25zZTogewogICAgICAgIGFjdGlvbjogJ2NvbnRpbnVlJywKICAgICAgfQogICAgfTsKCiAgICAvLyBVc2UgYSBjaHVua2VkIHNlbmRpbmcgdG8gYXZvaWQgbWVzc2FnZSBzaXplIGxpbWl0cy4gU2VlIGIvNjIxMTU2NjAuCiAgICBsZXQgcG9zaXRpb24gPSAwOwogICAgZG8gewogICAgICBjb25zdCBsZW5ndGggPSBNYXRoLm1pbihmaWxlRGF0YS5ieXRlTGVuZ3RoIC0gcG9zaXRpb24sIE1BWF9QQVlMT0FEX1NJWkUpOwogICAgICBjb25zdCBjaHVuayA9IG5ldyBVaW50OEFycmF5KGZpbGVEYXRhLCBwb3NpdGlvbiwgbGVuZ3RoKTsKICAgICAgcG9zaXRpb24gKz0gbGVuZ3RoOwoKICAgICAgY29uc3QgYmFzZTY0ID0gYnRvYShTdHJpbmcuZnJvbUNoYXJDb2RlLmFwcGx5KG51bGwsIGNodW5rKSk7CiAgICAgIHlpZWxkIHsKICAgICAgICByZXNwb25zZTogewogICAgICAgICAgYWN0aW9uOiAnYXBwZW5kJywKICAgICAgICAgIGZpbGU6IGZpbGUubmFtZSwKICAgICAgICAgIGRhdGE6IGJhc2U2NCwKICAgICAgICB9LAogICAgICB9OwoKICAgICAgbGV0IHBlcmNlbnREb25lID0gZmlsZURhdGEuYnl0ZUxlbmd0aCA9PT0gMCA/CiAgICAgICAgICAxMDAgOgogICAgICAgICAgTWF0aC5yb3VuZCgocG9zaXRpb24gLyBmaWxlRGF0YS5ieXRlTGVuZ3RoKSAqIDEwMCk7CiAgICAgIHBlcmNlbnQudGV4dENvbnRlbnQgPSBgJHtwZXJjZW50RG9uZX0lIGRvbmVgOwoKICAgIH0gd2hpbGUgKHBvc2l0aW9uIDwgZmlsZURhdGEuYnl0ZUxlbmd0aCk7CiAgfQoKICAvLyBBbGwgZG9uZS4KICB5aWVsZCB7CiAgICByZXNwb25zZTogewogICAgICBhY3Rpb246ICdjb21wbGV0ZScsCiAgICB9CiAgfTsKfQoKc2NvcGUuZ29vZ2xlID0gc2NvcGUuZ29vZ2xlIHx8IHt9OwpzY29wZS5nb29nbGUuY29sYWIgPSBzY29wZS5nb29nbGUuY29sYWIgfHwge307CnNjb3BlLmdvb2dsZS5jb2xhYi5fZmlsZXMgPSB7CiAgX3VwbG9hZEZpbGVzLAogIF91cGxvYWRGaWxlc0NvbnRpbnVlLAp9Owp9KShzZWxmKTsK",
              "ok": true,
              "headers": [
                [
                  "content-type",
                  "application/javascript"
                ]
              ],
              "status": 200,
              "status_text": ""
            }
          },
          "base_uri": "https://localhost:8080/",
          "height": 73
        },
        "id": "6QcejAwobXXq",
        "outputId": "c7c820d7-0961-4303-9cb1-efad498cbc2a"
      },
      "source": [
        "from google.colab import files\n",
        "uploaded = files.upload()"
      ],
      "execution_count": 2,
      "outputs": [
        {
          "output_type": "display_data",
          "data": {
            "text/html": [
              "\n",
              "     <input type=\"file\" id=\"files-edf3b41c-ac58-44e3-ae90-e61f06084bf3\" name=\"files[]\" multiple disabled\n",
              "        style=\"border:none\" />\n",
              "     <output id=\"result-edf3b41c-ac58-44e3-ae90-e61f06084bf3\">\n",
              "      Upload widget is only available when the cell has been executed in the\n",
              "      current browser session. Please rerun this cell to enable.\n",
              "      </output>\n",
              "      <script src=\"/nbextensions/google.colab/files.js\"></script> "
            ],
            "text/plain": [
              "<IPython.core.display.HTML object>"
            ]
          },
          "metadata": {}
        },
        {
          "output_type": "stream",
          "name": "stdout",
          "text": [
            "Saving Churn_Modelling (3).csv to Churn_Modelling (3).csv\n"
          ]
        }
      ]
    },
    {
      "cell_type": "code",
      "metadata": {
        "colab": {
          "base_uri": "https://localhost:8080/"
        },
        "id": "JVsBNxovjm7m",
        "outputId": "66cc59f9-9b54-423b-880e-0796e6504477"
      },
      "source": [
        "df = pd.read_csv('Churn_Modelling (3).csv', delimiter=',')\n",
        "df.shape"
      ],
      "execution_count": 3,
      "outputs": [
        {
          "output_type": "execute_result",
          "data": {
            "text/plain": [
              "(10000, 20)"
            ]
          },
          "metadata": {},
          "execution_count": 3
        }
      ]
    },
    {
      "cell_type": "code",
      "metadata": {
        "colab": {
          "base_uri": "https://localhost:8080/",
          "height": 226
        },
        "id": "bI71yFWajuEU",
        "outputId": "ec5323b3-46eb-403a-c720-5a642e942b35"
      },
      "source": [
        "# Review the top rows of what is left of the data frame\n",
        "df.head()"
      ],
      "execution_count": 4,
      "outputs": [
        {
          "output_type": "execute_result",
          "data": {
            "text/html": [
              "<div>\n",
              "<style scoped>\n",
              "    .dataframe tbody tr th:only-of-type {\n",
              "        vertical-align: middle;\n",
              "    }\n",
              "\n",
              "    .dataframe tbody tr th {\n",
              "        vertical-align: top;\n",
              "    }\n",
              "\n",
              "    .dataframe thead th {\n",
              "        text-align: right;\n",
              "    }\n",
              "</style>\n",
              "<table border=\"1\" class=\"dataframe\">\n",
              "  <thead>\n",
              "    <tr style=\"text-align: right;\">\n",
              "      <th></th>\n",
              "      <th>RowNumber</th>\n",
              "      <th>CustomerId</th>\n",
              "      <th>Surname</th>\n",
              "      <th>CreditScore</th>\n",
              "      <th>Geography</th>\n",
              "      <th>Gender</th>\n",
              "      <th>Age</th>\n",
              "      <th>Tenure</th>\n",
              "      <th>Balance</th>\n",
              "      <th>Limit</th>\n",
              "      <th>FEE_LEVIED</th>\n",
              "      <th>CLD</th>\n",
              "      <th>utilization</th>\n",
              "      <th>Revolver</th>\n",
              "      <th>NumOfProducts</th>\n",
              "      <th>spenddecrease</th>\n",
              "      <th>paymentratio</th>\n",
              "      <th>HasCrCard</th>\n",
              "      <th>EstimatedSalary</th>\n",
              "      <th>Exited</th>\n",
              "    </tr>\n",
              "  </thead>\n",
              "  <tbody>\n",
              "    <tr>\n",
              "      <th>0</th>\n",
              "      <td>1288</td>\n",
              "      <td>15565701</td>\n",
              "      <td>Ferri</td>\n",
              "      <td>698</td>\n",
              "      <td>Spain</td>\n",
              "      <td>Female</td>\n",
              "      <td>39</td>\n",
              "      <td>9</td>\n",
              "      <td>161994</td>\n",
              "      <td>300000</td>\n",
              "      <td>1</td>\n",
              "      <td>1</td>\n",
              "      <td>0.54</td>\n",
              "      <td>1</td>\n",
              "      <td>1</td>\n",
              "      <td>0</td>\n",
              "      <td>0.50</td>\n",
              "      <td>0</td>\n",
              "      <td>90212</td>\n",
              "      <td>0</td>\n",
              "    </tr>\n",
              "    <tr>\n",
              "      <th>1</th>\n",
              "      <td>4199</td>\n",
              "      <td>15565706</td>\n",
              "      <td>Akobundu</td>\n",
              "      <td>612</td>\n",
              "      <td>Spain</td>\n",
              "      <td>Male</td>\n",
              "      <td>35</td>\n",
              "      <td>1</td>\n",
              "      <td>0</td>\n",
              "      <td>100000</td>\n",
              "      <td>1</td>\n",
              "      <td>1</td>\n",
              "      <td>0.00</td>\n",
              "      <td>0</td>\n",
              "      <td>1</td>\n",
              "      <td>1</td>\n",
              "      <td>-0.10</td>\n",
              "      <td>1</td>\n",
              "      <td>83256</td>\n",
              "      <td>1</td>\n",
              "    </tr>\n",
              "    <tr>\n",
              "      <th>2</th>\n",
              "      <td>7091</td>\n",
              "      <td>15565714</td>\n",
              "      <td>Cattaneo</td>\n",
              "      <td>601</td>\n",
              "      <td>France</td>\n",
              "      <td>Male</td>\n",
              "      <td>47</td>\n",
              "      <td>1</td>\n",
              "      <td>64430</td>\n",
              "      <td>300000</td>\n",
              "      <td>1</td>\n",
              "      <td>1</td>\n",
              "      <td>0.21</td>\n",
              "      <td>0</td>\n",
              "      <td>2</td>\n",
              "      <td>1</td>\n",
              "      <td>-0.05</td>\n",
              "      <td>0</td>\n",
              "      <td>96518</td>\n",
              "      <td>0</td>\n",
              "    </tr>\n",
              "    <tr>\n",
              "      <th>3</th>\n",
              "      <td>2021</td>\n",
              "      <td>15565779</td>\n",
              "      <td>Kent</td>\n",
              "      <td>627</td>\n",
              "      <td>Germany</td>\n",
              "      <td>Female</td>\n",
              "      <td>30</td>\n",
              "      <td>6</td>\n",
              "      <td>57809</td>\n",
              "      <td>300000</td>\n",
              "      <td>1</td>\n",
              "      <td>1</td>\n",
              "      <td>0.19</td>\n",
              "      <td>0</td>\n",
              "      <td>1</td>\n",
              "      <td>1</td>\n",
              "      <td>-0.05</td>\n",
              "      <td>1</td>\n",
              "      <td>188258</td>\n",
              "      <td>0</td>\n",
              "    </tr>\n",
              "    <tr>\n",
              "      <th>4</th>\n",
              "      <td>3698</td>\n",
              "      <td>15565796</td>\n",
              "      <td>Docherty</td>\n",
              "      <td>745</td>\n",
              "      <td>Germany</td>\n",
              "      <td>Male</td>\n",
              "      <td>48</td>\n",
              "      <td>10</td>\n",
              "      <td>96049</td>\n",
              "      <td>400000</td>\n",
              "      <td>1</td>\n",
              "      <td>1</td>\n",
              "      <td>0.24</td>\n",
              "      <td>1</td>\n",
              "      <td>1</td>\n",
              "      <td>0</td>\n",
              "      <td>0.25</td>\n",
              "      <td>1</td>\n",
              "      <td>74511</td>\n",
              "      <td>0</td>\n",
              "    </tr>\n",
              "  </tbody>\n",
              "</table>\n",
              "</div>"
            ],
            "text/plain": [
              "   RowNumber  CustomerId   Surname  ...  HasCrCard EstimatedSalary Exited\n",
              "0       1288    15565701     Ferri  ...          0           90212      0\n",
              "1       4199    15565706  Akobundu  ...          1           83256      1\n",
              "2       7091    15565714  Cattaneo  ...          0           96518      0\n",
              "3       2021    15565779      Kent  ...          1          188258      0\n",
              "4       3698    15565796  Docherty  ...          1           74511      0\n",
              "\n",
              "[5 rows x 20 columns]"
            ]
          },
          "metadata": {},
          "execution_count": 4
        }
      ]
    },
    {
      "cell_type": "code",
      "metadata": {
        "id": "ygLci5pjjwCc"
      },
      "source": [
        "df = df.drop([\"RowNumber\", \"CustomerId\", \"Surname\",\"Geography\",\"Gender\"], axis = 1)"
      ],
      "execution_count": 5,
      "outputs": []
    },
    {
      "cell_type": "code",
      "metadata": {
        "colab": {
          "base_uri": "https://localhost:8080/"
        },
        "id": "a8y-ELCnj3XL",
        "outputId": "f8bf6f11-0aa4-4b68-8f01-89569f4d14cb"
      },
      "source": [
        "# Check variable data types\n",
        "df.dtypes"
      ],
      "execution_count": 6,
      "outputs": [
        {
          "output_type": "execute_result",
          "data": {
            "text/plain": [
              "CreditScore          int64\n",
              "Age                  int64\n",
              "Tenure               int64\n",
              "Balance              int64\n",
              "Limit                int64\n",
              "FEE_LEVIED           int64\n",
              "CLD                  int64\n",
              "utilization        float64\n",
              "Revolver             int64\n",
              "NumOfProducts        int64\n",
              "spenddecrease        int64\n",
              "paymentratio       float64\n",
              "HasCrCard            int64\n",
              "EstimatedSalary      int64\n",
              "Exited               int64\n",
              "dtype: object"
            ]
          },
          "metadata": {},
          "execution_count": 6
        }
      ]
    },
    {
      "cell_type": "code",
      "metadata": {
        "colab": {
          "base_uri": "https://localhost:8080/",
          "height": 320
        },
        "id": "MTXlmoaMj8Pb",
        "outputId": "c3ddce0c-f7a2-40e6-fc92-10cdec3bb4ad"
      },
      "source": [
        "df.describe()"
      ],
      "execution_count": 7,
      "outputs": [
        {
          "output_type": "execute_result",
          "data": {
            "text/html": [
              "<div>\n",
              "<style scoped>\n",
              "    .dataframe tbody tr th:only-of-type {\n",
              "        vertical-align: middle;\n",
              "    }\n",
              "\n",
              "    .dataframe tbody tr th {\n",
              "        vertical-align: top;\n",
              "    }\n",
              "\n",
              "    .dataframe thead th {\n",
              "        text-align: right;\n",
              "    }\n",
              "</style>\n",
              "<table border=\"1\" class=\"dataframe\">\n",
              "  <thead>\n",
              "    <tr style=\"text-align: right;\">\n",
              "      <th></th>\n",
              "      <th>CreditScore</th>\n",
              "      <th>Age</th>\n",
              "      <th>Tenure</th>\n",
              "      <th>Balance</th>\n",
              "      <th>Limit</th>\n",
              "      <th>FEE_LEVIED</th>\n",
              "      <th>CLD</th>\n",
              "      <th>utilization</th>\n",
              "      <th>Revolver</th>\n",
              "      <th>NumOfProducts</th>\n",
              "      <th>spenddecrease</th>\n",
              "      <th>paymentratio</th>\n",
              "      <th>HasCrCard</th>\n",
              "      <th>EstimatedSalary</th>\n",
              "      <th>Exited</th>\n",
              "    </tr>\n",
              "  </thead>\n",
              "  <tbody>\n",
              "    <tr>\n",
              "      <th>count</th>\n",
              "      <td>10000.000000</td>\n",
              "      <td>10000.000000</td>\n",
              "      <td>10000.000000</td>\n",
              "      <td>10000.000000</td>\n",
              "      <td>10000.000000</td>\n",
              "      <td>10000.000000</td>\n",
              "      <td>10000.000000</td>\n",
              "      <td>10000.000000</td>\n",
              "      <td>10000.000000</td>\n",
              "      <td>10000.000000</td>\n",
              "      <td>10000.000000</td>\n",
              "      <td>10000.000000</td>\n",
              "      <td>10000.00000</td>\n",
              "      <td>10000.000000</td>\n",
              "      <td>10000.000000</td>\n",
              "    </tr>\n",
              "    <tr>\n",
              "      <th>mean</th>\n",
              "      <td>650.528800</td>\n",
              "      <td>38.921800</td>\n",
              "      <td>5.012800</td>\n",
              "      <td>83591.896300</td>\n",
              "      <td>297600.000000</td>\n",
              "      <td>0.418300</td>\n",
              "      <td>0.645300</td>\n",
              "      <td>0.287190</td>\n",
              "      <td>0.691500</td>\n",
              "      <td>1.530200</td>\n",
              "      <td>0.615200</td>\n",
              "      <td>0.067320</td>\n",
              "      <td>0.70550</td>\n",
              "      <td>100090.241500</td>\n",
              "      <td>0.203700</td>\n",
              "    </tr>\n",
              "    <tr>\n",
              "      <th>std</th>\n",
              "      <td>96.653299</td>\n",
              "      <td>10.487806</td>\n",
              "      <td>2.892174</td>\n",
              "      <td>56574.330201</td>\n",
              "      <td>121201.109611</td>\n",
              "      <td>0.493305</td>\n",
              "      <td>0.478446</td>\n",
              "      <td>0.225177</td>\n",
              "      <td>0.461897</td>\n",
              "      <td>0.581654</td>\n",
              "      <td>0.486572</td>\n",
              "      <td>0.294271</td>\n",
              "      <td>0.45584</td>\n",
              "      <td>57510.492352</td>\n",
              "      <td>0.402769</td>\n",
              "    </tr>\n",
              "    <tr>\n",
              "      <th>min</th>\n",
              "      <td>350.000000</td>\n",
              "      <td>18.000000</td>\n",
              "      <td>0.000000</td>\n",
              "      <td>0.000000</td>\n",
              "      <td>100000.000000</td>\n",
              "      <td>0.000000</td>\n",
              "      <td>0.000000</td>\n",
              "      <td>0.000000</td>\n",
              "      <td>0.000000</td>\n",
              "      <td>1.000000</td>\n",
              "      <td>0.000000</td>\n",
              "      <td>-0.500000</td>\n",
              "      <td>0.00000</td>\n",
              "      <td>12.000000</td>\n",
              "      <td>0.000000</td>\n",
              "    </tr>\n",
              "    <tr>\n",
              "      <th>25%</th>\n",
              "      <td>584.000000</td>\n",
              "      <td>32.000000</td>\n",
              "      <td>3.000000</td>\n",
              "      <td>46983.250000</td>\n",
              "      <td>200000.000000</td>\n",
              "      <td>0.000000</td>\n",
              "      <td>0.000000</td>\n",
              "      <td>0.160000</td>\n",
              "      <td>0.000000</td>\n",
              "      <td>1.000000</td>\n",
              "      <td>0.000000</td>\n",
              "      <td>-0.100000</td>\n",
              "      <td>0.00000</td>\n",
              "      <td>51002.000000</td>\n",
              "      <td>0.000000</td>\n",
              "    </tr>\n",
              "    <tr>\n",
              "      <th>50%</th>\n",
              "      <td>652.000000</td>\n",
              "      <td>37.000000</td>\n",
              "      <td>5.000000</td>\n",
              "      <td>97198.500000</td>\n",
              "      <td>400000.000000</td>\n",
              "      <td>0.000000</td>\n",
              "      <td>1.000000</td>\n",
              "      <td>0.280000</td>\n",
              "      <td>1.000000</td>\n",
              "      <td>1.000000</td>\n",
              "      <td>1.000000</td>\n",
              "      <td>0.050000</td>\n",
              "      <td>1.00000</td>\n",
              "      <td>100193.500000</td>\n",
              "      <td>0.000000</td>\n",
              "    </tr>\n",
              "    <tr>\n",
              "      <th>75%</th>\n",
              "      <td>718.000000</td>\n",
              "      <td>44.000000</td>\n",
              "      <td>7.000000</td>\n",
              "      <td>127644.000000</td>\n",
              "      <td>400000.000000</td>\n",
              "      <td>1.000000</td>\n",
              "      <td>1.000000</td>\n",
              "      <td>0.360000</td>\n",
              "      <td>1.000000</td>\n",
              "      <td>2.000000</td>\n",
              "      <td>1.000000</td>\n",
              "      <td>0.300000</td>\n",
              "      <td>1.00000</td>\n",
              "      <td>149388.000000</td>\n",
              "      <td>0.000000</td>\n",
              "    </tr>\n",
              "    <tr>\n",
              "      <th>max</th>\n",
              "      <td>850.000000</td>\n",
              "      <td>92.000000</td>\n",
              "      <td>10.000000</td>\n",
              "      <td>250898.000000</td>\n",
              "      <td>500000.000000</td>\n",
              "      <td>1.000000</td>\n",
              "      <td>1.000000</td>\n",
              "      <td>0.940000</td>\n",
              "      <td>1.000000</td>\n",
              "      <td>4.000000</td>\n",
              "      <td>1.000000</td>\n",
              "      <td>0.500000</td>\n",
              "      <td>1.00000</td>\n",
              "      <td>199992.000000</td>\n",
              "      <td>1.000000</td>\n",
              "    </tr>\n",
              "  </tbody>\n",
              "</table>\n",
              "</div>"
            ],
            "text/plain": [
              "        CreditScore           Age  ...  EstimatedSalary        Exited\n",
              "count  10000.000000  10000.000000  ...     10000.000000  10000.000000\n",
              "mean     650.528800     38.921800  ...    100090.241500      0.203700\n",
              "std       96.653299     10.487806  ...     57510.492352      0.402769\n",
              "min      350.000000     18.000000  ...        12.000000      0.000000\n",
              "25%      584.000000     32.000000  ...     51002.000000      0.000000\n",
              "50%      652.000000     37.000000  ...    100193.500000      0.000000\n",
              "75%      718.000000     44.000000  ...    149388.000000      0.000000\n",
              "max      850.000000     92.000000  ...    199992.000000      1.000000\n",
              "\n",
              "[8 rows x 15 columns]"
            ]
          },
          "metadata": {},
          "execution_count": 7
        }
      ]
    },
    {
      "cell_type": "code",
      "metadata": {
        "colab": {
          "base_uri": "https://localhost:8080/",
          "height": 356
        },
        "id": "bxJZSxO_kHFj",
        "outputId": "67dd7ef0-d174-40eb-833f-5e55e1f7a314"
      },
      "source": [
        "_, ax = plt.subplots(1, 6, figsize=(18, 5))\n",
        "plt.subplots_adjust(wspace=0.3)\n",
        "sns.countplot(x = \"NumOfProducts\", hue=\"Exited\", data = df, ax= ax[0])\n",
        "sns.countplot(x = \"HasCrCard\", hue=\"Exited\", data = df, ax = ax[1])\n",
        "sns.countplot(x = \"Revolver\", hue=\"Exited\", data = df, ax = ax[2])\n",
        "sns.countplot(x = \"CLD\", hue=\"Exited\", data = df, ax = ax[3])\n",
        "sns.countplot(x = \"spenddecrease\", hue=\"Exited\", data = df, ax = ax[4])\n",
        "sns.countplot(x = \"FEE_LEVIED\", hue=\"Exited\", data = df, ax = ax[5])"
      ],
      "execution_count": 8,
      "outputs": [
        {
          "output_type": "execute_result",
          "data": {
            "text/plain": [
              "<matplotlib.axes._subplots.AxesSubplot at 0x7f53d4c2d190>"
            ]
          },
          "metadata": {},
          "execution_count": 8
        },
        {
          "output_type": "display_data",
          "data": {
            "image/png": "[encoded data removed]",
            "text/plain": [
              "<Figure size 1296x360 with 6 Axes>"
            ]
          },
          "metadata": {
            "needs_background": "light"
          }
        }
      ]
    },
    {
      "cell_type": "code",
      "metadata": {
        "colab": {
          "base_uri": "https://localhost:8080/",
          "height": 225
        },
        "id": "UxgDjBo9kLPD",
        "outputId": "8df0a802-f3aa-45ed-90ab-5dbcdd4217a6"
      },
      "source": [
        "facet = sns.FacetGrid(df, hue=\"Exited\",aspect=3)\n",
        "facet.map(sns.kdeplot,\"Age\",shade= True)\n",
        "facet.set(xlim=(0, df[\"Age\"].max()))\n",
        "facet.add_legend()\n",
        "\n",
        "plt.show()"
      ],
      "execution_count": 9,
      "outputs": [
        {
          "output_type": "display_data",
          "data": {
            "image/png": "[encoded data removed]",
            "text/plain": [
              "<Figure size 694.6x216 with 1 Axes>"
            ]
          },
          "metadata": {
            "needs_background": "light"
          }
        }
      ]
    },
    {
      "cell_type": "code",
      "metadata": {
        "colab": {
          "base_uri": "https://localhost:8080/",
          "height": 457
        },
        "id": "UXEaEDb3kQR9",
        "outputId": "3b5eb631-c345-489d-db3e-eed6bc034fbf"
      },
      "source": [
        "plt.figure(figsize=(12,6))\n",
        "bplot = df.boxplot(patch_artist=True)\n",
        "plt.xticks(rotation=90)       \n",
        "plt.show()"
      ],
      "execution_count": 10,
      "outputs": [
        {
          "output_type": "display_data",
          "data": {
            "image/png": "[encoded data removed]",
            "text/plain": [
              "<Figure size 864x432 with 1 Axes>"
            ]
          },
          "metadata": {
            "needs_background": "light"
          }
        }
      ]
    },
    {
      "cell_type": "code",
      "metadata": {
        "colab": {
          "base_uri": "https://localhost:8080/",
          "height": 570
        },
        "id": "XCzeESDvkeNn",
        "outputId": "8e761186-a5df-4822-bf23-fe00006af38c"
      },
      "source": [
        "plt.subplots(figsize=(11,8))\n",
        "sns.heatmap(df.corr(), annot=True, cmap=\"RdYlBu\")\n",
        "plt.show()"
      ],
      "execution_count": 11,
      "outputs": [
        {
          "output_type": "display_data",
          "data": {
            "image/png": "[encoded data removed]",
            "text/plain": [
              "<Figure size 792x576 with 2 Axes>"
            ]
          },
          "metadata": {
            "needs_background": "light"
          }
        }
      ]
    },
    {
      "cell_type": "code",
      "metadata": {
        "id": "7VDgrGe1ku1r"
      },
      "source": [
        "X = df.drop(\"Exited\", axis=1)\n",
        "y = df[\"Exited\"]"
      ],
      "execution_count": 12,
      "outputs": []
    },
    {
      "cell_type": "code",
      "metadata": {
        "id": "-uBFFfeikzbc"
      },
      "source": [
        "X_train, X_test, y_train, y_test = train_test_split(X,y, test_size=0.2, random_state=0)"
      ],
      "execution_count": 13,
      "outputs": []
    },
    {
      "cell_type": "code",
      "metadata": {
        "colab": {
          "base_uri": "https://localhost:8080/"
        },
        "id": "krQ9Wt_Qk5e8",
        "outputId": "aa4ceac8-50ab-4117-f613-73bac719a3de"
      },
      "source": [
        "len(X_train)"
      ],
      "execution_count": 14,
      "outputs": [
        {
          "output_type": "execute_result",
          "data": {
            "text/plain": [
              "8000"
            ]
          },
          "metadata": {},
          "execution_count": 14
        }
      ]
    },
    {
      "cell_type": "code",
      "metadata": {
        "colab": {
          "base_uri": "https://localhost:8080/"
        },
        "id": "l8ua9eYqlDHk",
        "outputId": "6bd429e3-f1f2-451d-f4c4-208db3118384"
      },
      "source": [
        "# Create model object\n",
        "model = LogisticRegression()\n",
        "\n",
        "# Train Model\n",
        "model.fit(X_train, y_train)"
      ],
      "execution_count": 15,
      "outputs": [
        {
          "output_type": "execute_result",
          "data": {
            "text/plain": [
              "LogisticRegression()"
            ]
          },
          "metadata": {},
          "execution_count": 15
        }
      ]
    },
    {
      "cell_type": "code",
      "metadata": {
        "colab": {
          "base_uri": "https://localhost:8080/"
        },
        "id": "-fh6KzAKlIdk",
        "outputId": "fab056fc-be98-46ad-c5c1-a6dc728e831c"
      },
      "source": [
        "# Predict Probability\n",
        "model.predict_proba(X_test)[:5]"
      ],
      "execution_count": 16,
      "outputs": [
        {
          "output_type": "execute_result",
          "data": {
            "text/plain": [
              "array([[0.75870097, 0.24129903],\n",
              "       [0.78513872, 0.21486128],\n",
              "       [0.84667154, 0.15332846],\n",
              "       [0.64832797, 0.35167203],\n",
              "       [0.78036858, 0.21963142]])"
            ]
          },
          "metadata": {},
          "execution_count": 16
        }
      ]
    },
    {
      "cell_type": "code",
      "metadata": {
        "colab": {
          "base_uri": "https://localhost:8080/"
        },
        "id": "IOUh72GDlN9c",
        "outputId": "ba897a46-2158-4de1-e33a-607bd6ba4304"
      },
      "source": [
        "# Predict Class\n",
        "model.predict(X_test)[:5]"
      ],
      "execution_count": 17,
      "outputs": [
        {
          "output_type": "execute_result",
          "data": {
            "text/plain": [
              "array([0, 0, 0, 0, 0])"
            ]
          },
          "metadata": {},
          "execution_count": 17
        }
      ]
    },
    {
      "cell_type": "code",
      "metadata": {
        "colab": {
          "base_uri": "https://localhost:8080/",
          "height": 206
        },
        "id": "k2l5DWA6lUTk",
        "outputId": "dc7f266d-fafc-4af4-b626-e5c84c61f6d3"
      },
      "source": [
        "# Predict on Testing Data\n",
        "\n",
        "# probabilities\n",
        "y_pred_prob = model.predict_proba(X_test)[:, 1]\n",
        "\n",
        "# Prediction\n",
        "y_pred = model.predict(X_test)\n",
        "\n",
        "# Results table\n",
        "test_result = pd.DataFrame(data={'y_act':y_test, 'y_pred':y_pred, 'y_pred_prob':y_pred_prob})\n",
        "test_result.sample(5)"
      ],
      "execution_count": 18,
      "outputs": [
        {
          "output_type": "execute_result",
          "data": {
            "text/html": [
              "<div>\n",
              "<style scoped>\n",
              "    .dataframe tbody tr th:only-of-type {\n",
              "        vertical-align: middle;\n",
              "    }\n",
              "\n",
              "    .dataframe tbody tr th {\n",
              "        vertical-align: top;\n",
              "    }\n",
              "\n",
              "    .dataframe thead th {\n",
              "        text-align: right;\n",
              "    }\n",
              "</style>\n",
              "<table border=\"1\" class=\"dataframe\">\n",
              "  <thead>\n",
              "    <tr style=\"text-align: right;\">\n",
              "      <th></th>\n",
              "      <th>y_act</th>\n",
              "      <th>y_pred</th>\n",
              "      <th>y_pred_prob</th>\n",
              "    </tr>\n",
              "  </thead>\n",
              "  <tbody>\n",
              "    <tr>\n",
              "      <th>7968</th>\n",
              "      <td>0</td>\n",
              "      <td>0</td>\n",
              "      <td>0.182335</td>\n",
              "    </tr>\n",
              "    <tr>\n",
              "      <th>580</th>\n",
              "      <td>0</td>\n",
              "      <td>0</td>\n",
              "      <td>0.246300</td>\n",
              "    </tr>\n",
              "    <tr>\n",
              "      <th>866</th>\n",
              "      <td>0</td>\n",
              "      <td>0</td>\n",
              "      <td>0.223512</td>\n",
              "    </tr>\n",
              "    <tr>\n",
              "      <th>5687</th>\n",
              "      <td>1</td>\n",
              "      <td>0</td>\n",
              "      <td>0.278967</td>\n",
              "    </tr>\n",
              "    <tr>\n",
              "      <th>3857</th>\n",
              "      <td>0</td>\n",
              "      <td>0</td>\n",
              "      <td>0.111387</td>\n",
              "    </tr>\n",
              "  </tbody>\n",
              "</table>\n",
              "</div>"
            ],
            "text/plain": [
              "      y_act  y_pred  y_pred_prob\n",
              "7968      0       0     0.182335\n",
              "580       0       0     0.246300\n",
              "866       0       0     0.223512\n",
              "5687      1       0     0.278967\n",
              "3857      0       0     0.111387"
            ]
          },
          "metadata": {},
          "execution_count": 18
        }
      ]
    },
    {
      "cell_type": "code",
      "metadata": {
        "colab": {
          "base_uri": "https://localhost:8080/",
          "height": 175
        },
        "id": "k3femnSxlXI8",
        "outputId": "e6ce68ee-8571-46cf-c549-7ac1c013c3d0"
      },
      "source": [
        "cfm = pd.crosstab(test_result['y_act'], test_result['y_pred'], margins=True)\n",
        "cfm"
      ],
      "execution_count": 19,
      "outputs": [
        {
          "output_type": "execute_result",
          "data": {
            "text/html": [
              "<div>\n",
              "<style scoped>\n",
              "    .dataframe tbody tr th:only-of-type {\n",
              "        vertical-align: middle;\n",
              "    }\n",
              "\n",
              "    .dataframe tbody tr th {\n",
              "        vertical-align: top;\n",
              "    }\n",
              "\n",
              "    .dataframe thead th {\n",
              "        text-align: right;\n",
              "    }\n",
              "</style>\n",
              "<table border=\"1\" class=\"dataframe\">\n",
              "  <thead>\n",
              "    <tr style=\"text-align: right;\">\n",
              "      <th>y_pred</th>\n",
              "      <th>0</th>\n",
              "      <th>All</th>\n",
              "    </tr>\n",
              "    <tr>\n",
              "      <th>y_act</th>\n",
              "      <th></th>\n",
              "      <th></th>\n",
              "    </tr>\n",
              "  </thead>\n",
              "  <tbody>\n",
              "    <tr>\n",
              "      <th>0</th>\n",
              "      <td>1588</td>\n",
              "      <td>1588</td>\n",
              "    </tr>\n",
              "    <tr>\n",
              "      <th>1</th>\n",
              "      <td>412</td>\n",
              "      <td>412</td>\n",
              "    </tr>\n",
              "    <tr>\n",
              "      <th>All</th>\n",
              "      <td>2000</td>\n",
              "      <td>2000</td>\n",
              "    </tr>\n",
              "  </tbody>\n",
              "</table>\n",
              "</div>"
            ],
            "text/plain": [
              "y_pred     0   All\n",
              "y_act             \n",
              "0       1588  1588\n",
              "1        412   412\n",
              "All     2000  2000"
            ]
          },
          "metadata": {},
          "execution_count": 19
        }
      ]
    },
    {
      "cell_type": "code",
      "metadata": {
        "colab": {
          "base_uri": "https://localhost:8080/"
        },
        "id": "xK5M5frdluTu",
        "outputId": "7383a337-83d9-4346-bcf6-6137b0b2613f"
      },
      "source": [
        "acuracy_lgr = metrics.accuracy_score(test_result['y_act'], test_result['y_pred']) \n",
        "acuracy_lgr"
      ],
      "execution_count": 22,
      "outputs": [
        {
          "output_type": "execute_result",
          "data": {
            "text/plain": [
              "0.794"
            ]
          },
          "metadata": {},
          "execution_count": 22
        }
      ]
    },
    {
      "cell_type": "code",
      "metadata": {
        "colab": {
          "base_uri": "https://localhost:8080/"
        },
        "id": "5bNftCoXmPGc",
        "outputId": "203235f6-d2c8-4fff-dd09-9d00349c2202"
      },
      "source": [
        "precision_lgr = metrics.precision_score(test_result['y_act'], test_result['y_pred'], average='binary', pos_label=1)\n",
        "precision_lgr"
      ],
      "execution_count": 25,
      "outputs": [
        {
          "output_type": "stream",
          "name": "stderr",
          "text": [
            "/usr/local/lib/python3.7/dist-packages/sklearn/metrics/_classification.py:1308: UndefinedMetricWarning: Precision is ill-defined and being set to 0.0 due to no predicted samples. Use `zero_division` parameter to control this behavior.\n",
            "  _warn_prf(average, modifier, msg_start, len(result))\n"
          ]
        },
        {
          "output_type": "execute_result",
          "data": {
            "text/plain": [
              "0.0"
            ]
          },
          "metadata": {},
          "execution_count": 25
        }
      ]
    },
    {
      "cell_type": "code",
      "metadata": {
        "colab": {
          "base_uri": "https://localhost:8080/"
        },
        "id": "M0Zm04-XmVe0",
        "outputId": "85bc8693-bd55-4e46-861a-c7d330c7e0c6"
      },
      "source": [
        "f1_score_lgr = metrics.f1_score(test_result['y_act'], test_result['y_pred'], average='weighted')  #weighted accounts for label imbalance.\n",
        "f1_score_lgr"
      ],
      "execution_count": 24,
      "outputs": [
        {
          "output_type": "execute_result",
          "data": {
            "text/plain": [
              "0.7028272017837236"
            ]
          },
          "metadata": {},
          "execution_count": 24
        }
      ]
    },
    {
      "cell_type": "code",
      "metadata": {
        "colab": {
          "base_uri": "https://localhost:8080/"
        },
        "id": "n0NWtks4mkDU",
        "outputId": "da4768ff-f55c-4c12-f403-a99c685c20cb"
      },
      "source": [
        "# Create model object\n",
        "model = DecisionTreeClassifier(random_state=0, max_depth=10, min_samples_split=20)\n",
        "\n",
        "# Train Model\n",
        "model.fit(X_train, y_train)"
      ],
      "execution_count": 28,
      "outputs": [
        {
          "output_type": "execute_result",
          "data": {
            "text/plain": [
              "DecisionTreeClassifier(max_depth=10, min_samples_split=20, random_state=0)"
            ]
          },
          "metadata": {},
          "execution_count": 28
        }
      ]
    },
    {
      "cell_type": "code",
      "metadata": {
        "colab": {
          "base_uri": "https://localhost:8080/",
          "height": 206
        },
        "id": "wTugofCEm_Gv",
        "outputId": "c363164c-7d71-46f7-a270-a189b4f88e06"
      },
      "source": [
        "# Predict on Testing Data\n",
        "\n",
        "# probabilities\n",
        "y_pred_prob = model.predict_proba(X_test)[:, 1]\n",
        "\n",
        "# Prediction\n",
        "y_pred = model.predict(X_test)\n",
        "\n",
        "# Results table\n",
        "test_result = pd.DataFrame(data={'y_act':y_test, 'y_pred':y_pred, 'y_pred_prob':y_pred_prob})\n",
        "test_result.sample(5)"
      ],
      "execution_count": 29,
      "outputs": [
        {
          "output_type": "execute_result",
          "data": {
            "text/html": [
              "<div>\n",
              "<style scoped>\n",
              "    .dataframe tbody tr th:only-of-type {\n",
              "        vertical-align: middle;\n",
              "    }\n",
              "\n",
              "    .dataframe tbody tr th {\n",
              "        vertical-align: top;\n",
              "    }\n",
              "\n",
              "    .dataframe thead th {\n",
              "        text-align: right;\n",
              "    }\n",
              "</style>\n",
              "<table border=\"1\" class=\"dataframe\">\n",
              "  <thead>\n",
              "    <tr style=\"text-align: right;\">\n",
              "      <th></th>\n",
              "      <th>y_act</th>\n",
              "      <th>y_pred</th>\n",
              "      <th>y_pred_prob</th>\n",
              "    </tr>\n",
              "  </thead>\n",
              "  <tbody>\n",
              "    <tr>\n",
              "      <th>7092</th>\n",
              "      <td>0</td>\n",
              "      <td>0</td>\n",
              "      <td>0.000000</td>\n",
              "    </tr>\n",
              "    <tr>\n",
              "      <th>7041</th>\n",
              "      <td>0</td>\n",
              "      <td>0</td>\n",
              "      <td>0.000000</td>\n",
              "    </tr>\n",
              "    <tr>\n",
              "      <th>8078</th>\n",
              "      <td>0</td>\n",
              "      <td>0</td>\n",
              "      <td>0.000000</td>\n",
              "    </tr>\n",
              "    <tr>\n",
              "      <th>2735</th>\n",
              "      <td>0</td>\n",
              "      <td>0</td>\n",
              "      <td>0.031818</td>\n",
              "    </tr>\n",
              "    <tr>\n",
              "      <th>158</th>\n",
              "      <td>1</td>\n",
              "      <td>0</td>\n",
              "      <td>0.185185</td>\n",
              "    </tr>\n",
              "  </tbody>\n",
              "</table>\n",
              "</div>"
            ],
            "text/plain": [
              "      y_act  y_pred  y_pred_prob\n",
              "7092      0       0     0.000000\n",
              "7041      0       0     0.000000\n",
              "8078      0       0     0.000000\n",
              "2735      0       0     0.031818\n",
              "158       1       0     0.185185"
            ]
          },
          "metadata": {},
          "execution_count": 29
        }
      ]
    },
    {
      "cell_type": "code",
      "metadata": {
        "colab": {
          "base_uri": "https://localhost:8080/",
          "height": 175
        },
        "id": "jRyyXyXXnHac",
        "outputId": "6237d9c2-e937-45f7-d6f9-4661076acb0c"
      },
      "source": [
        "cfm = pd.crosstab(test_result['y_act'], test_result['y_pred'], margins=True)\n",
        "cfm"
      ],
      "execution_count": 30,
      "outputs": [
        {
          "output_type": "execute_result",
          "data": {
            "text/html": [
              "<div>\n",
              "<style scoped>\n",
              "    .dataframe tbody tr th:only-of-type {\n",
              "        vertical-align: middle;\n",
              "    }\n",
              "\n",
              "    .dataframe tbody tr th {\n",
              "        vertical-align: top;\n",
              "    }\n",
              "\n",
              "    .dataframe thead th {\n",
              "        text-align: right;\n",
              "    }\n",
              "</style>\n",
              "<table border=\"1\" class=\"dataframe\">\n",
              "  <thead>\n",
              "    <tr style=\"text-align: right;\">\n",
              "      <th>y_pred</th>\n",
              "      <th>0</th>\n",
              "      <th>1</th>\n",
              "      <th>All</th>\n",
              "    </tr>\n",
              "    <tr>\n",
              "      <th>y_act</th>\n",
              "      <th></th>\n",
              "      <th></th>\n",
              "      <th></th>\n",
              "    </tr>\n",
              "  </thead>\n",
              "  <tbody>\n",
              "    <tr>\n",
              "      <th>0</th>\n",
              "      <td>1481</td>\n",
              "      <td>107</td>\n",
              "      <td>1588</td>\n",
              "    </tr>\n",
              "    <tr>\n",
              "      <th>1</th>\n",
              "      <td>239</td>\n",
              "      <td>173</td>\n",
              "      <td>412</td>\n",
              "    </tr>\n",
              "    <tr>\n",
              "      <th>All</th>\n",
              "      <td>1720</td>\n",
              "      <td>280</td>\n",
              "      <td>2000</td>\n",
              "    </tr>\n",
              "  </tbody>\n",
              "</table>\n",
              "</div>"
            ],
            "text/plain": [
              "y_pred     0    1   All\n",
              "y_act                  \n",
              "0       1481  107  1588\n",
              "1        239  173   412\n",
              "All     1720  280  2000"
            ]
          },
          "metadata": {},
          "execution_count": 30
        }
      ]
    },
    {
      "cell_type": "code",
      "metadata": {
        "colab": {
          "base_uri": "https://localhost:8080/"
        },
        "id": "q2vjbOBmnJyb",
        "outputId": "ef6b107f-70a9-4dba-a67c-13c3b3caa7c2"
      },
      "source": [
        "acuracy_tc = metrics.accuracy_score(test_result['y_act'], test_result['y_pred']) \n",
        "acuracy_tc"
      ],
      "execution_count": 31,
      "outputs": [
        {
          "output_type": "execute_result",
          "data": {
            "text/plain": [
              "0.827"
            ]
          },
          "metadata": {},
          "execution_count": 31
        }
      ]
    },
    {
      "cell_type": "code",
      "metadata": {
        "colab": {
          "base_uri": "https://localhost:8080/"
        },
        "id": "1-oUkF2_nQIT",
        "outputId": "9eb56e4d-5724-4ace-b242-c3643765766d"
      },
      "source": [
        "# https://scikit-learn.org/stable/modules/generated/sklearn.metrics.precision_score.html#sklearn.metrics.precision_score\n",
        "precision_tc = metrics.precision_score(test_result['y_act'], test_result['y_pred'], average='binary', pos_label=1)\n",
        "precision_tc"
      ],
      "execution_count": 32,
      "outputs": [
        {
          "output_type": "execute_result",
          "data": {
            "text/plain": [
              "0.6178571428571429"
            ]
          },
          "metadata": {},
          "execution_count": 32
        }
      ]
    },
    {
      "cell_type": "code",
      "metadata": {
        "colab": {
          "base_uri": "https://localhost:8080/"
        },
        "id": "1PLC0oHMnTtE",
        "outputId": "6b3cd683-ad54-41c9-ce67-8797f007bf54"
      },
      "source": [
        "f1_score_tc = metrics.f1_score(test_result['y_act'], test_result['y_pred'], average='weighted')  #weighted accounts for label imbalance.\n",
        "f1_score_tc"
      ],
      "execution_count": 33,
      "outputs": [
        {
          "output_type": "execute_result",
          "data": {
            "text/plain": [
              "0.8139516324062879"
            ]
          },
          "metadata": {},
          "execution_count": 33
        }
      ]
    },
    {
      "cell_type": "code",
      "metadata": {
        "colab": {
          "base_uri": "https://localhost:8080/"
        },
        "id": "I7qzvDN9nbCz",
        "outputId": "0ad2fe58-49c7-4b8c-99cf-ace29dbf5951"
      },
      "source": [
        "# Create model object\n",
        "model = RandomForestClassifier(n_estimators=500)\n",
        "\n",
        "# Train Model\n",
        "model.fit(X_train, y_train)"
      ],
      "execution_count": 34,
      "outputs": [
        {
          "output_type": "execute_result",
          "data": {
            "text/plain": [
              "RandomForestClassifier(n_estimators=500)"
            ]
          },
          "metadata": {},
          "execution_count": 34
        }
      ]
    },
    {
      "cell_type": "code",
      "metadata": {
        "colab": {
          "base_uri": "https://localhost:8080/",
          "height": 206
        },
        "id": "nDSoHzzcneCE",
        "outputId": "cbeb89da-0408-47d4-9351-51fa222188ab"
      },
      "source": [
        "# Predict on Testing Data\n",
        "\n",
        "# probabilities\n",
        "y_pred_prob = model.predict_proba(X_test)[:, 1]\n",
        "\n",
        "# Prediction\n",
        "y_pred = model.predict(X_test)\n",
        "\n",
        "# Results table\n",
        "test_result = pd.DataFrame(data={'y_act':y_test, 'y_pred':y_pred, 'y_pred_prob':y_pred_prob})\n",
        "test_result.sample(5)"
      ],
      "execution_count": 35,
      "outputs": [
        {
          "output_type": "execute_result",
          "data": {
            "text/html": [
              "<div>\n",
              "<style scoped>\n",
              "    .dataframe tbody tr th:only-of-type {\n",
              "        vertical-align: middle;\n",
              "    }\n",
              "\n",
              "    .dataframe tbody tr th {\n",
              "        vertical-align: top;\n",
              "    }\n",
              "\n",
              "    .dataframe thead th {\n",
              "        text-align: right;\n",
              "    }\n",
              "</style>\n",
              "<table border=\"1\" class=\"dataframe\">\n",
              "  <thead>\n",
              "    <tr style=\"text-align: right;\">\n",
              "      <th></th>\n",
              "      <th>y_act</th>\n",
              "      <th>y_pred</th>\n",
              "      <th>y_pred_prob</th>\n",
              "    </tr>\n",
              "  </thead>\n",
              "  <tbody>\n",
              "    <tr>\n",
              "      <th>7097</th>\n",
              "      <td>1</td>\n",
              "      <td>1</td>\n",
              "      <td>0.756</td>\n",
              "    </tr>\n",
              "    <tr>\n",
              "      <th>491</th>\n",
              "      <td>0</td>\n",
              "      <td>0</td>\n",
              "      <td>0.048</td>\n",
              "    </tr>\n",
              "    <tr>\n",
              "      <th>5052</th>\n",
              "      <td>1</td>\n",
              "      <td>0</td>\n",
              "      <td>0.498</td>\n",
              "    </tr>\n",
              "    <tr>\n",
              "      <th>406</th>\n",
              "      <td>0</td>\n",
              "      <td>0</td>\n",
              "      <td>0.052</td>\n",
              "    </tr>\n",
              "    <tr>\n",
              "      <th>9517</th>\n",
              "      <td>0</td>\n",
              "      <td>0</td>\n",
              "      <td>0.054</td>\n",
              "    </tr>\n",
              "  </tbody>\n",
              "</table>\n",
              "</div>"
            ],
            "text/plain": [
              "      y_act  y_pred  y_pred_prob\n",
              "7097      1       1        0.756\n",
              "491       0       0        0.048\n",
              "5052      1       0        0.498\n",
              "406       0       0        0.052\n",
              "9517      0       0        0.054"
            ]
          },
          "metadata": {},
          "execution_count": 35
        }
      ]
    },
    {
      "cell_type": "code",
      "metadata": {
        "colab": {
          "base_uri": "https://localhost:8080/",
          "height": 175
        },
        "id": "_2nAeE1Rnmv8",
        "outputId": "33d0ece4-d2f6-4021-b2d6-00ff2d1e4c79"
      },
      "source": [
        "cfm = pd.crosstab(test_result['y_act'], test_result['y_pred'], margins=True)\n",
        "cfm"
      ],
      "execution_count": 36,
      "outputs": [
        {
          "output_type": "execute_result",
          "data": {
            "text/html": [
              "<div>\n",
              "<style scoped>\n",
              "    .dataframe tbody tr th:only-of-type {\n",
              "        vertical-align: middle;\n",
              "    }\n",
              "\n",
              "    .dataframe tbody tr th {\n",
              "        vertical-align: top;\n",
              "    }\n",
              "\n",
              "    .dataframe thead th {\n",
              "        text-align: right;\n",
              "    }\n",
              "</style>\n",
              "<table border=\"1\" class=\"dataframe\">\n",
              "  <thead>\n",
              "    <tr style=\"text-align: right;\">\n",
              "      <th>y_pred</th>\n",
              "      <th>0</th>\n",
              "      <th>1</th>\n",
              "      <th>All</th>\n",
              "    </tr>\n",
              "    <tr>\n",
              "      <th>y_act</th>\n",
              "      <th></th>\n",
              "      <th></th>\n",
              "      <th></th>\n",
              "    </tr>\n",
              "  </thead>\n",
              "  <tbody>\n",
              "    <tr>\n",
              "      <th>0</th>\n",
              "      <td>1514</td>\n",
              "      <td>74</td>\n",
              "      <td>1588</td>\n",
              "    </tr>\n",
              "    <tr>\n",
              "      <th>1</th>\n",
              "      <td>255</td>\n",
              "      <td>157</td>\n",
              "      <td>412</td>\n",
              "    </tr>\n",
              "    <tr>\n",
              "      <th>All</th>\n",
              "      <td>1769</td>\n",
              "      <td>231</td>\n",
              "      <td>2000</td>\n",
              "    </tr>\n",
              "  </tbody>\n",
              "</table>\n",
              "</div>"
            ],
            "text/plain": [
              "y_pred     0    1   All\n",
              "y_act                  \n",
              "0       1514   74  1588\n",
              "1        255  157   412\n",
              "All     1769  231  2000"
            ]
          },
          "metadata": {},
          "execution_count": 36
        }
      ]
    },
    {
      "cell_type": "code",
      "metadata": {
        "colab": {
          "base_uri": "https://localhost:8080/"
        },
        "id": "XBiMwJpSnrzL",
        "outputId": "5fd965e2-acbc-4957-e913-c2426b720b34"
      },
      "source": [
        "acuracy_rf = metrics.accuracy_score(test_result['y_act'], test_result['y_pred']) \n",
        "acuracy_rf"
      ],
      "execution_count": 37,
      "outputs": [
        {
          "output_type": "execute_result",
          "data": {
            "text/plain": [
              "0.8355"
            ]
          },
          "metadata": {},
          "execution_count": 37
        }
      ]
    },
    {
      "cell_type": "code",
      "metadata": {
        "colab": {
          "base_uri": "https://localhost:8080/"
        },
        "id": "VpLIVsDinubc",
        "outputId": "df3f1640-8e30-4e9d-a12c-3008d9a26cd1"
      },
      "source": [
        "# https://scikit-learn.org/stable/modules/generated/sklearn.metrics.precision_score.html#sklearn.metrics.precision_score\n",
        "precision_rf = metrics.precision_score(test_result['y_act'], test_result['y_pred'], average='binary', pos_label=1)\n",
        "precision_rf"
      ],
      "execution_count": 38,
      "outputs": [
        {
          "output_type": "execute_result",
          "data": {
            "text/plain": [
              "0.6796536796536796"
            ]
          },
          "metadata": {},
          "execution_count": 38
        }
      ]
    },
    {
      "cell_type": "code",
      "metadata": {
        "colab": {
          "base_uri": "https://localhost:8080/"
        },
        "id": "eq61JGSfnyNd",
        "outputId": "ce0c6a31-b3a0-453c-f1ef-2dcec9705d5d"
      },
      "source": [
        "f1_score_rf = metrics.f1_score(test_result['y_act'], test_result['y_pred'], average='weighted')  #weighted accounts for label imbalance.\n",
        "f1_score_rf"
      ],
      "execution_count": 39,
      "outputs": [
        {
          "output_type": "execute_result",
          "data": {
            "text/plain": [
              "0.8167818893322418"
            ]
          },
          "metadata": {},
          "execution_count": 39
        }
      ]
    },
    {
      "cell_type": "code",
      "metadata": {
        "colab": {
          "base_uri": "https://localhost:8080/",
          "height": 143
        },
        "id": "G72V8LKcn55c",
        "outputId": "d5d98f2f-2bb5-4ef8-c3b7-7952821f7c97"
      },
      "source": [
        "metrics_comp = [['LGR', acuracy_lgr, precision_lgr, f1_score_lgr],\n",
        "['TC', acuracy_tc, precision_tc, f1_score_tc],\n",
        "['RF', acuracy_rf, precision_rf, f1_score_rf]]\n",
        "\n",
        "pd.DataFrame(data=metrics_comp, columns=['Model', 'accuracy', 'precision', 'f1_score'])"
      ],
      "execution_count": 40,
      "outputs": [
        {
          "output_type": "execute_result",
          "data": {
            "text/html": [
              "<div>\n",
              "<style scoped>\n",
              "    .dataframe tbody tr th:only-of-type {\n",
              "        vertical-align: middle;\n",
              "    }\n",
              "\n",
              "    .dataframe tbody tr th {\n",
              "        vertical-align: top;\n",
              "    }\n",
              "\n",
              "    .dataframe thead th {\n",
              "        text-align: right;\n",
              "    }\n",
              "</style>\n",
              "<table border=\"1\" class=\"dataframe\">\n",
              "  <thead>\n",
              "    <tr style=\"text-align: right;\">\n",
              "      <th></th>\n",
              "      <th>Model</th>\n",
              "      <th>accuracy</th>\n",
              "      <th>precision</th>\n",
              "      <th>f1_score</th>\n",
              "    </tr>\n",
              "  </thead>\n",
              "  <tbody>\n",
              "    <tr>\n",
              "      <th>0</th>\n",
              "      <td>LGR</td>\n",
              "      <td>0.7940</td>\n",
              "      <td>0.000000</td>\n",
              "      <td>0.702827</td>\n",
              "    </tr>\n",
              "    <tr>\n",
              "      <th>1</th>\n",
              "      <td>TC</td>\n",
              "      <td>0.8270</td>\n",
              "      <td>0.617857</td>\n",
              "      <td>0.813952</td>\n",
              "    </tr>\n",
              "    <tr>\n",
              "      <th>2</th>\n",
              "      <td>RF</td>\n",
              "      <td>0.8355</td>\n",
              "      <td>0.679654</td>\n",
              "      <td>0.816782</td>\n",
              "    </tr>\n",
              "  </tbody>\n",
              "</table>\n",
              "</div>"
            ],
            "text/plain": [
              "  Model  accuracy  precision  f1_score\n",
              "0   LGR    0.7940   0.000000  0.702827\n",
              "1    TC    0.8270   0.617857  0.813952\n",
              "2    RF    0.8355   0.679654  0.816782"
            ]
          },
          "metadata": {},
          "execution_count": 40
        }
      ]
    },
    {
      "cell_type": "code",
      "metadata": {
        "colab": {
          "base_uri": "https://localhost:8080/",
          "height": 206
        },
        "id": "9N3qfOWRo9ub",
        "outputId": "7b075da9-c042-4528-a16b-fffff932d279"
      },
      "source": [
        "# Selected Logistic Regression\n",
        "\n",
        "# Create model object\n",
        "model = LogisticRegression()\n",
        "\n",
        "# Train Model\n",
        "model.fit(X_train, y_train)\n",
        "\n",
        "# Predict on Testing Data\n",
        "\n",
        "# probabilities\n",
        "y_pred_prob = model.predict_proba(X_test)[:, 1]\n",
        "\n",
        "# Prediction\n",
        "y_pred = model.predict(X_test)\n",
        "\n",
        "# Results table\n",
        "test_result = pd.DataFrame(data={'y_act':y_test, 'y_pred':y_pred, 'y_pred_prob':y_pred_prob})\n",
        "test_result.sample(5)"
      ],
      "execution_count": 41,
      "outputs": [
        {
          "output_type": "execute_result",
          "data": {
            "text/html": [
              "<div>\n",
              "<style scoped>\n",
              "    .dataframe tbody tr th:only-of-type {\n",
              "        vertical-align: middle;\n",
              "    }\n",
              "\n",
              "    .dataframe tbody tr th {\n",
              "        vertical-align: top;\n",
              "    }\n",
              "\n",
              "    .dataframe thead th {\n",
              "        text-align: right;\n",
              "    }\n",
              "</style>\n",
              "<table border=\"1\" class=\"dataframe\">\n",
              "  <thead>\n",
              "    <tr style=\"text-align: right;\">\n",
              "      <th></th>\n",
              "      <th>y_act</th>\n",
              "      <th>y_pred</th>\n",
              "      <th>y_pred_prob</th>\n",
              "    </tr>\n",
              "  </thead>\n",
              "  <tbody>\n",
              "    <tr>\n",
              "      <th>2060</th>\n",
              "      <td>0</td>\n",
              "      <td>0</td>\n",
              "      <td>0.166085</td>\n",
              "    </tr>\n",
              "    <tr>\n",
              "      <th>9271</th>\n",
              "      <td>1</td>\n",
              "      <td>0</td>\n",
              "      <td>0.212033</td>\n",
              "    </tr>\n",
              "    <tr>\n",
              "      <th>6368</th>\n",
              "      <td>0</td>\n",
              "      <td>0</td>\n",
              "      <td>0.186853</td>\n",
              "    </tr>\n",
              "    <tr>\n",
              "      <th>9789</th>\n",
              "      <td>0</td>\n",
              "      <td>0</td>\n",
              "      <td>0.150453</td>\n",
              "    </tr>\n",
              "    <tr>\n",
              "      <th>4022</th>\n",
              "      <td>0</td>\n",
              "      <td>0</td>\n",
              "      <td>0.149850</td>\n",
              "    </tr>\n",
              "  </tbody>\n",
              "</table>\n",
              "</div>"
            ],
            "text/plain": [
              "      y_act  y_pred  y_pred_prob\n",
              "2060      0       0     0.166085\n",
              "9271      1       0     0.212033\n",
              "6368      0       0     0.186853\n",
              "9789      0       0     0.150453\n",
              "4022      0       0     0.149850"
            ]
          },
          "metadata": {},
          "execution_count": 41
        }
      ]
    },
    {
      "cell_type": "code",
      "metadata": {
        "colab": {
          "base_uri": "https://localhost:8080/"
        },
        "id": "oAGlNm3KpCMr",
        "outputId": "47a3b00d-1f00-4e1a-c20d-b03cf22eff78"
      },
      "source": [
        "test_result['y_pred_prob'].value_counts(bins=10)"
      ],
      "execution_count": 42,
      "outputs": [
        {
          "output_type": "execute_result",
          "data": {
            "text/plain": [
              "(0.182, 0.213]     415\n",
              "(0.213, 0.244]     395\n",
              "(0.151, 0.182]     365\n",
              "(0.244, 0.275]     265\n",
              "(0.119, 0.151]     246\n",
              "(0.275, 0.307]     135\n",
              "(0.0869, 0.119]     78\n",
              "(0.307, 0.338]      70\n",
              "(0.338, 0.369]      27\n",
              "(0.369, 0.4]         4\n",
              "Name: y_pred_prob, dtype: int64"
            ]
          },
          "metadata": {},
          "execution_count": 42
        }
      ]
    },
    {
      "cell_type": "code",
      "metadata": {
        "colab": {
          "base_uri": "https://localhost:8080/"
        },
        "id": "CZysRQL_pIBq",
        "outputId": "ae094288-27dc-48cb-b368-ea5bf1ee886a"
      },
      "source": [
        "# Divide 10 buckets based on probability\n",
        "test_result['prob_bucket'] = pd.cut(test_result['y_pred_prob'], bins=[0, 0.1, 0.2, 0.3, 0.4, 0.5, 0.6, 0.7, 0.8, 0.9, 1.0])\n",
        "test_result['prob_bucket']"
      ],
      "execution_count": 43,
      "outputs": [
        {
          "output_type": "execute_result",
          "data": {
            "text/plain": [
              "9394    (0.2, 0.3]\n",
              "898     (0.2, 0.3]\n",
              "2398    (0.1, 0.2]\n",
              "5906    (0.3, 0.4]\n",
              "2343    (0.2, 0.3]\n",
              "           ...    \n",
              "1037    (0.1, 0.2]\n",
              "2899    (0.1, 0.2]\n",
              "9549    (0.2, 0.3]\n",
              "2740    (0.1, 0.2]\n",
              "6690    (0.1, 0.2]\n",
              "Name: prob_bucket, Length: 2000, dtype: category\n",
              "Categories (10, interval[float64]): [(0.0, 0.1] < (0.1, 0.2] < (0.2, 0.3] < (0.3, 0.4] < ... <\n",
              "                                     (0.6, 0.7] < (0.7, 0.8] < (0.8, 0.9] < (0.9, 1.0]]"
            ]
          },
          "metadata": {},
          "execution_count": 43
        }
      ]
    },
    {
      "cell_type": "code",
      "metadata": {
        "colab": {
          "base_uri": "https://localhost:8080/",
          "height": 363
        },
        "id": "W14Ub7gBpOEj",
        "outputId": "d1cbd8e9-6d66-4d57-cc12-36fd28b6f38d"
      },
      "source": [
        "calibration_table  = test_result.groupby(by='prob_bucket').agg(\n",
        "    count=pd.NamedAgg(column=\"prob_bucket\", aggfunc=\"count\"),\n",
        "    response_count=pd.NamedAgg(column=\"y_act\", aggfunc=\"sum\"),\n",
        "    min_probability = pd.NamedAgg(column=\"y_pred_prob\", aggfunc=\"min\"),\n",
        "    mean_probability = pd.NamedAgg(column=\"y_pred_prob\", aggfunc=\"mean\"),\n",
        "    ).reset_index()\n",
        "\n",
        "calibration_table"
      ],
      "execution_count": 44,
      "outputs": [
        {
          "output_type": "execute_result",
          "data": {
            "text/html": [
              "<div>\n",
              "<style scoped>\n",
              "    .dataframe tbody tr th:only-of-type {\n",
              "        vertical-align: middle;\n",
              "    }\n",
              "\n",
              "    .dataframe tbody tr th {\n",
              "        vertical-align: top;\n",
              "    }\n",
              "\n",
              "    .dataframe thead th {\n",
              "        text-align: right;\n",
              "    }\n",
              "</style>\n",
              "<table border=\"1\" class=\"dataframe\">\n",
              "  <thead>\n",
              "    <tr style=\"text-align: right;\">\n",
              "      <th></th>\n",
              "      <th>prob_bucket</th>\n",
              "      <th>count</th>\n",
              "      <th>response_count</th>\n",
              "      <th>min_probability</th>\n",
              "      <th>mean_probability</th>\n",
              "    </tr>\n",
              "  </thead>\n",
              "  <tbody>\n",
              "    <tr>\n",
              "      <th>0</th>\n",
              "      <td>(0.0, 0.1]</td>\n",
              "      <td>13</td>\n",
              "      <td>3</td>\n",
              "      <td>0.088184</td>\n",
              "      <td>0.095428</td>\n",
              "    </tr>\n",
              "    <tr>\n",
              "      <th>1</th>\n",
              "      <td>(0.1, 0.2]</td>\n",
              "      <td>920</td>\n",
              "      <td>147</td>\n",
              "      <td>0.100616</td>\n",
              "      <td>0.161210</td>\n",
              "    </tr>\n",
              "    <tr>\n",
              "      <th>2</th>\n",
              "      <td>(0.2, 0.3]</td>\n",
              "      <td>936</td>\n",
              "      <td>229</td>\n",
              "      <td>0.200174</td>\n",
              "      <td>0.239029</td>\n",
              "    </tr>\n",
              "    <tr>\n",
              "      <th>3</th>\n",
              "      <td>(0.3, 0.4]</td>\n",
              "      <td>130</td>\n",
              "      <td>32</td>\n",
              "      <td>0.300049</td>\n",
              "      <td>0.324299</td>\n",
              "    </tr>\n",
              "    <tr>\n",
              "      <th>4</th>\n",
              "      <td>(0.4, 0.5]</td>\n",
              "      <td>1</td>\n",
              "      <td>1</td>\n",
              "      <td>0.400294</td>\n",
              "      <td>0.400294</td>\n",
              "    </tr>\n",
              "    <tr>\n",
              "      <th>5</th>\n",
              "      <td>(0.5, 0.6]</td>\n",
              "      <td>0</td>\n",
              "      <td>0</td>\n",
              "      <td>NaN</td>\n",
              "      <td>NaN</td>\n",
              "    </tr>\n",
              "    <tr>\n",
              "      <th>6</th>\n",
              "      <td>(0.6, 0.7]</td>\n",
              "      <td>0</td>\n",
              "      <td>0</td>\n",
              "      <td>NaN</td>\n",
              "      <td>NaN</td>\n",
              "    </tr>\n",
              "    <tr>\n",
              "      <th>7</th>\n",
              "      <td>(0.7, 0.8]</td>\n",
              "      <td>0</td>\n",
              "      <td>0</td>\n",
              "      <td>NaN</td>\n",
              "      <td>NaN</td>\n",
              "    </tr>\n",
              "    <tr>\n",
              "      <th>8</th>\n",
              "      <td>(0.8, 0.9]</td>\n",
              "      <td>0</td>\n",
              "      <td>0</td>\n",
              "      <td>NaN</td>\n",
              "      <td>NaN</td>\n",
              "    </tr>\n",
              "    <tr>\n",
              "      <th>9</th>\n",
              "      <td>(0.9, 1.0]</td>\n",
              "      <td>0</td>\n",
              "      <td>0</td>\n",
              "      <td>NaN</td>\n",
              "      <td>NaN</td>\n",
              "    </tr>\n",
              "  </tbody>\n",
              "</table>\n",
              "</div>"
            ],
            "text/plain": [
              "  prob_bucket  count  response_count  min_probability  mean_probability\n",
              "0  (0.0, 0.1]     13               3         0.088184          0.095428\n",
              "1  (0.1, 0.2]    920             147         0.100616          0.161210\n",
              "2  (0.2, 0.3]    936             229         0.200174          0.239029\n",
              "3  (0.3, 0.4]    130              32         0.300049          0.324299\n",
              "4  (0.4, 0.5]      1               1         0.400294          0.400294\n",
              "5  (0.5, 0.6]      0               0              NaN               NaN\n",
              "6  (0.6, 0.7]      0               0              NaN               NaN\n",
              "7  (0.7, 0.8]      0               0              NaN               NaN\n",
              "8  (0.8, 0.9]      0               0              NaN               NaN\n",
              "9  (0.9, 1.0]      0               0              NaN               NaN"
            ]
          },
          "metadata": {},
          "execution_count": 44
        }
      ]
    },
    {
      "cell_type": "code",
      "metadata": {
        "colab": {
          "base_uri": "https://localhost:8080/"
        },
        "id": "Hn83rnMtpQks",
        "outputId": "9c655523-d7bb-4bca-ca57-bc49861a0dcf"
      },
      "source": [
        "# Divide 10 buckets with even samples sorted by probability\n",
        "test_result['q_bucket'] = pd.qcut(test_result['y_pred_prob'], q=10, duplicates='drop')\n",
        "test_result['q_bucket']"
      ],
      "execution_count": 45,
      "outputs": [
        {
          "output_type": "execute_result",
          "data": {
            "text/plain": [
              "9394    (0.236, 0.253]\n",
              "898      (0.206, 0.22]\n",
              "2398    (0.138, 0.157]\n",
              "5906      (0.282, 0.4]\n",
              "2343     (0.206, 0.22]\n",
              "             ...      \n",
              "1037     (0.174, 0.19]\n",
              "2899    (0.157, 0.174]\n",
              "9549     (0.19, 0.206]\n",
              "2740    (0.138, 0.157]\n",
              "6690     (0.19, 0.206]\n",
              "Name: q_bucket, Length: 2000, dtype: category\n",
              "Categories (10, interval[float64]): [(0.0872, 0.138] < (0.138, 0.157] < (0.157, 0.174] < (0.174, 0.19] <\n",
              "                                     ... < (0.22, 0.236] < (0.236, 0.253] <\n",
              "                                     (0.253, 0.282] < (0.282, 0.4]]"
            ]
          },
          "metadata": {},
          "execution_count": 45
        }
      ]
    },
    {
      "cell_type": "code",
      "metadata": {
        "colab": {
          "base_uri": "https://localhost:8080/",
          "height": 363
        },
        "id": "H0WsMRZXpZ_z",
        "outputId": "ed506652-f07b-4fdf-e65a-d5a8e1687030"
      },
      "source": [
        "calib_table  = test_result.groupby(by='q_bucket').agg(\n",
        "    count=pd.NamedAgg(column=\"q_bucket\", aggfunc=\"count\"),\n",
        "    response_count=pd.NamedAgg(column=\"y_act\", aggfunc=\"sum\"),\n",
        "    min_probability = pd.NamedAgg(column=\"y_pred_prob\", aggfunc=\"min\"),\n",
        "    mean_probability = pd.NamedAgg(column=\"y_pred_prob\", aggfunc=\"mean\"),\n",
        "    ).reset_index()\n",
        "\n",
        "calib_table"
      ],
      "execution_count": 46,
      "outputs": [
        {
          "output_type": "execute_result",
          "data": {
            "text/html": [
              "<div>\n",
              "<style scoped>\n",
              "    .dataframe tbody tr th:only-of-type {\n",
              "        vertical-align: middle;\n",
              "    }\n",
              "\n",
              "    .dataframe tbody tr th {\n",
              "        vertical-align: top;\n",
              "    }\n",
              "\n",
              "    .dataframe thead th {\n",
              "        text-align: right;\n",
              "    }\n",
              "</style>\n",
              "<table border=\"1\" class=\"dataframe\">\n",
              "  <thead>\n",
              "    <tr style=\"text-align: right;\">\n",
              "      <th></th>\n",
              "      <th>q_bucket</th>\n",
              "      <th>count</th>\n",
              "      <th>response_count</th>\n",
              "      <th>min_probability</th>\n",
              "      <th>mean_probability</th>\n",
              "    </tr>\n",
              "  </thead>\n",
              "  <tbody>\n",
              "    <tr>\n",
              "      <th>0</th>\n",
              "      <td>(0.0872, 0.138]</td>\n",
              "      <td>200</td>\n",
              "      <td>29</td>\n",
              "      <td>0.088184</td>\n",
              "      <td>0.120821</td>\n",
              "    </tr>\n",
              "    <tr>\n",
              "      <th>1</th>\n",
              "      <td>(0.138, 0.157]</td>\n",
              "      <td>200</td>\n",
              "      <td>23</td>\n",
              "      <td>0.138483</td>\n",
              "      <td>0.148690</td>\n",
              "    </tr>\n",
              "    <tr>\n",
              "      <th>2</th>\n",
              "      <td>(0.157, 0.174]</td>\n",
              "      <td>200</td>\n",
              "      <td>27</td>\n",
              "      <td>0.157113</td>\n",
              "      <td>0.165961</td>\n",
              "    </tr>\n",
              "    <tr>\n",
              "      <th>3</th>\n",
              "      <td>(0.174, 0.19]</td>\n",
              "      <td>200</td>\n",
              "      <td>43</td>\n",
              "      <td>0.174146</td>\n",
              "      <td>0.182482</td>\n",
              "    </tr>\n",
              "    <tr>\n",
              "      <th>4</th>\n",
              "      <td>(0.19, 0.206]</td>\n",
              "      <td>200</td>\n",
              "      <td>41</td>\n",
              "      <td>0.190244</td>\n",
              "      <td>0.197849</td>\n",
              "    </tr>\n",
              "    <tr>\n",
              "      <th>5</th>\n",
              "      <td>(0.206, 0.22]</td>\n",
              "      <td>200</td>\n",
              "      <td>31</td>\n",
              "      <td>0.206326</td>\n",
              "      <td>0.212703</td>\n",
              "    </tr>\n",
              "    <tr>\n",
              "      <th>6</th>\n",
              "      <td>(0.22, 0.236]</td>\n",
              "      <td>200</td>\n",
              "      <td>53</td>\n",
              "      <td>0.219754</td>\n",
              "      <td>0.227197</td>\n",
              "    </tr>\n",
              "    <tr>\n",
              "      <th>7</th>\n",
              "      <td>(0.236, 0.253]</td>\n",
              "      <td>200</td>\n",
              "      <td>57</td>\n",
              "      <td>0.236211</td>\n",
              "      <td>0.244190</td>\n",
              "    </tr>\n",
              "    <tr>\n",
              "      <th>8</th>\n",
              "      <td>(0.253, 0.282]</td>\n",
              "      <td>200</td>\n",
              "      <td>59</td>\n",
              "      <td>0.252759</td>\n",
              "      <td>0.266226</td>\n",
              "    </tr>\n",
              "    <tr>\n",
              "      <th>9</th>\n",
              "      <td>(0.282, 0.4]</td>\n",
              "      <td>200</td>\n",
              "      <td>49</td>\n",
              "      <td>0.282083</td>\n",
              "      <td>0.313099</td>\n",
              "    </tr>\n",
              "  </tbody>\n",
              "</table>\n",
              "</div>"
            ],
            "text/plain": [
              "          q_bucket  count  response_count  min_probability  mean_probability\n",
              "0  (0.0872, 0.138]    200              29         0.088184          0.120821\n",
              "1   (0.138, 0.157]    200              23         0.138483          0.148690\n",
              "2   (0.157, 0.174]    200              27         0.157113          0.165961\n",
              "3    (0.174, 0.19]    200              43         0.174146          0.182482\n",
              "4    (0.19, 0.206]    200              41         0.190244          0.197849\n",
              "5    (0.206, 0.22]    200              31         0.206326          0.212703\n",
              "6    (0.22, 0.236]    200              53         0.219754          0.227197\n",
              "7   (0.236, 0.253]    200              57         0.236211          0.244190\n",
              "8   (0.253, 0.282]    200              59         0.252759          0.266226\n",
              "9     (0.282, 0.4]    200              49         0.282083          0.313099"
            ]
          },
          "metadata": {},
          "execution_count": 46
        }
      ]
    },
    {
      "cell_type": "code",
      "metadata": {
        "colab": {
          "base_uri": "https://localhost:8080/",
          "height": 363
        },
        "id": "swayLCvipe2s",
        "outputId": "8a0a543b-659d-46dd-cbd7-910093716722"
      },
      "source": [
        "calib_table['precision'] = calib_table['response_count'] / calib_table['count'] \n",
        "calib_table['response_fraction'] = calib_table['response_count'] / calib_table['response_count'].sum()\n",
        "calib_table"
      ],
      "execution_count": 47,
      "outputs": [
        {
          "output_type": "execute_result",
          "data": {
            "text/html": [
              "<div>\n",
              "<style scoped>\n",
              "    .dataframe tbody tr th:only-of-type {\n",
              "        vertical-align: middle;\n",
              "    }\n",
              "\n",
              "    .dataframe tbody tr th {\n",
              "        vertical-align: top;\n",
              "    }\n",
              "\n",
              "    .dataframe thead th {\n",
              "        text-align: right;\n",
              "    }\n",
              "</style>\n",
              "<table border=\"1\" class=\"dataframe\">\n",
              "  <thead>\n",
              "    <tr style=\"text-align: right;\">\n",
              "      <th></th>\n",
              "      <th>q_bucket</th>\n",
              "      <th>count</th>\n",
              "      <th>response_count</th>\n",
              "      <th>min_probability</th>\n",
              "      <th>mean_probability</th>\n",
              "      <th>precision</th>\n",
              "      <th>response_fraction</th>\n",
              "    </tr>\n",
              "  </thead>\n",
              "  <tbody>\n",
              "    <tr>\n",
              "      <th>0</th>\n",
              "      <td>(0.0872, 0.138]</td>\n",
              "      <td>200</td>\n",
              "      <td>29</td>\n",
              "      <td>0.088184</td>\n",
              "      <td>0.120821</td>\n",
              "      <td>0.145</td>\n",
              "      <td>0.070388</td>\n",
              "    </tr>\n",
              "    <tr>\n",
              "      <th>1</th>\n",
              "      <td>(0.138, 0.157]</td>\n",
              "      <td>200</td>\n",
              "      <td>23</td>\n",
              "      <td>0.138483</td>\n",
              "      <td>0.148690</td>\n",
              "      <td>0.115</td>\n",
              "      <td>0.055825</td>\n",
              "    </tr>\n",
              "    <tr>\n",
              "      <th>2</th>\n",
              "      <td>(0.157, 0.174]</td>\n",
              "      <td>200</td>\n",
              "      <td>27</td>\n",
              "      <td>0.157113</td>\n",
              "      <td>0.165961</td>\n",
              "      <td>0.135</td>\n",
              "      <td>0.065534</td>\n",
              "    </tr>\n",
              "    <tr>\n",
              "      <th>3</th>\n",
              "      <td>(0.174, 0.19]</td>\n",
              "      <td>200</td>\n",
              "      <td>43</td>\n",
              "      <td>0.174146</td>\n",
              "      <td>0.182482</td>\n",
              "      <td>0.215</td>\n",
              "      <td>0.104369</td>\n",
              "    </tr>\n",
              "    <tr>\n",
              "      <th>4</th>\n",
              "      <td>(0.19, 0.206]</td>\n",
              "      <td>200</td>\n",
              "      <td>41</td>\n",
              "      <td>0.190244</td>\n",
              "      <td>0.197849</td>\n",
              "      <td>0.205</td>\n",
              "      <td>0.099515</td>\n",
              "    </tr>\n",
              "    <tr>\n",
              "      <th>5</th>\n",
              "      <td>(0.206, 0.22]</td>\n",
              "      <td>200</td>\n",
              "      <td>31</td>\n",
              "      <td>0.206326</td>\n",
              "      <td>0.212703</td>\n",
              "      <td>0.155</td>\n",
              "      <td>0.075243</td>\n",
              "    </tr>\n",
              "    <tr>\n",
              "      <th>6</th>\n",
              "      <td>(0.22, 0.236]</td>\n",
              "      <td>200</td>\n",
              "      <td>53</td>\n",
              "      <td>0.219754</td>\n",
              "      <td>0.227197</td>\n",
              "      <td>0.265</td>\n",
              "      <td>0.128641</td>\n",
              "    </tr>\n",
              "    <tr>\n",
              "      <th>7</th>\n",
              "      <td>(0.236, 0.253]</td>\n",
              "      <td>200</td>\n",
              "      <td>57</td>\n",
              "      <td>0.236211</td>\n",
              "      <td>0.244190</td>\n",
              "      <td>0.285</td>\n",
              "      <td>0.138350</td>\n",
              "    </tr>\n",
              "    <tr>\n",
              "      <th>8</th>\n",
              "      <td>(0.253, 0.282]</td>\n",
              "      <td>200</td>\n",
              "      <td>59</td>\n",
              "      <td>0.252759</td>\n",
              "      <td>0.266226</td>\n",
              "      <td>0.295</td>\n",
              "      <td>0.143204</td>\n",
              "    </tr>\n",
              "    <tr>\n",
              "      <th>9</th>\n",
              "      <td>(0.282, 0.4]</td>\n",
              "      <td>200</td>\n",
              "      <td>49</td>\n",
              "      <td>0.282083</td>\n",
              "      <td>0.313099</td>\n",
              "      <td>0.245</td>\n",
              "      <td>0.118932</td>\n",
              "    </tr>\n",
              "  </tbody>\n",
              "</table>\n",
              "</div>"
            ],
            "text/plain": [
              "          q_bucket  count  ...  precision  response_fraction\n",
              "0  (0.0872, 0.138]    200  ...      0.145           0.070388\n",
              "1   (0.138, 0.157]    200  ...      0.115           0.055825\n",
              "2   (0.157, 0.174]    200  ...      0.135           0.065534\n",
              "3    (0.174, 0.19]    200  ...      0.215           0.104369\n",
              "4    (0.19, 0.206]    200  ...      0.205           0.099515\n",
              "5    (0.206, 0.22]    200  ...      0.155           0.075243\n",
              "6    (0.22, 0.236]    200  ...      0.265           0.128641\n",
              "7   (0.236, 0.253]    200  ...      0.285           0.138350\n",
              "8   (0.253, 0.282]    200  ...      0.295           0.143204\n",
              "9     (0.282, 0.4]    200  ...      0.245           0.118932\n",
              "\n",
              "[10 rows x 7 columns]"
            ]
          },
          "metadata": {},
          "execution_count": 47
        }
      ]
    },
    {
      "cell_type": "code",
      "metadata": {
        "colab": {
          "base_uri": "https://localhost:8080/",
          "height": 363
        },
        "id": "rozIgOvapqHk",
        "outputId": "644a4022-5f5f-4a52-a5a9-7e2a31b9e49c"
      },
      "source": [
        "# Get cumulative sum in reverse order\n",
        "calib_table = calib_table.sort_index(ascending=False)\n",
        "calib_table"
      ],
      "execution_count": 48,
      "outputs": [
        {
          "output_type": "execute_result",
          "data": {
            "text/html": [
              "<div>\n",
              "<style scoped>\n",
              "    .dataframe tbody tr th:only-of-type {\n",
              "        vertical-align: middle;\n",
              "    }\n",
              "\n",
              "    .dataframe tbody tr th {\n",
              "        vertical-align: top;\n",
              "    }\n",
              "\n",
              "    .dataframe thead th {\n",
              "        text-align: right;\n",
              "    }\n",
              "</style>\n",
              "<table border=\"1\" class=\"dataframe\">\n",
              "  <thead>\n",
              "    <tr style=\"text-align: right;\">\n",
              "      <th></th>\n",
              "      <th>q_bucket</th>\n",
              "      <th>count</th>\n",
              "      <th>response_count</th>\n",
              "      <th>min_probability</th>\n",
              "      <th>mean_probability</th>\n",
              "      <th>precision</th>\n",
              "      <th>response_fraction</th>\n",
              "    </tr>\n",
              "  </thead>\n",
              "  <tbody>\n",
              "    <tr>\n",
              "      <th>9</th>\n",
              "      <td>(0.282, 0.4]</td>\n",
              "      <td>200</td>\n",
              "      <td>49</td>\n",
              "      <td>0.282083</td>\n",
              "      <td>0.313099</td>\n",
              "      <td>0.245</td>\n",
              "      <td>0.118932</td>\n",
              "    </tr>\n",
              "    <tr>\n",
              "      <th>8</th>\n",
              "      <td>(0.253, 0.282]</td>\n",
              "      <td>200</td>\n",
              "      <td>59</td>\n",
              "      <td>0.252759</td>\n",
              "      <td>0.266226</td>\n",
              "      <td>0.295</td>\n",
              "      <td>0.143204</td>\n",
              "    </tr>\n",
              "    <tr>\n",
              "      <th>7</th>\n",
              "      <td>(0.236, 0.253]</td>\n",
              "      <td>200</td>\n",
              "      <td>57</td>\n",
              "      <td>0.236211</td>\n",
              "      <td>0.244190</td>\n",
              "      <td>0.285</td>\n",
              "      <td>0.138350</td>\n",
              "    </tr>\n",
              "    <tr>\n",
              "      <th>6</th>\n",
              "      <td>(0.22, 0.236]</td>\n",
              "      <td>200</td>\n",
              "      <td>53</td>\n",
              "      <td>0.219754</td>\n",
              "      <td>0.227197</td>\n",
              "      <td>0.265</td>\n",
              "      <td>0.128641</td>\n",
              "    </tr>\n",
              "    <tr>\n",
              "      <th>5</th>\n",
              "      <td>(0.206, 0.22]</td>\n",
              "      <td>200</td>\n",
              "      <td>31</td>\n",
              "      <td>0.206326</td>\n",
              "      <td>0.212703</td>\n",
              "      <td>0.155</td>\n",
              "      <td>0.075243</td>\n",
              "    </tr>\n",
              "    <tr>\n",
              "      <th>4</th>\n",
              "      <td>(0.19, 0.206]</td>\n",
              "      <td>200</td>\n",
              "      <td>41</td>\n",
              "      <td>0.190244</td>\n",
              "      <td>0.197849</td>\n",
              "      <td>0.205</td>\n",
              "      <td>0.099515</td>\n",
              "    </tr>\n",
              "    <tr>\n",
              "      <th>3</th>\n",
              "      <td>(0.174, 0.19]</td>\n",
              "      <td>200</td>\n",
              "      <td>43</td>\n",
              "      <td>0.174146</td>\n",
              "      <td>0.182482</td>\n",
              "      <td>0.215</td>\n",
              "      <td>0.104369</td>\n",
              "    </tr>\n",
              "    <tr>\n",
              "      <th>2</th>\n",
              "      <td>(0.157, 0.174]</td>\n",
              "      <td>200</td>\n",
              "      <td>27</td>\n",
              "      <td>0.157113</td>\n",
              "      <td>0.165961</td>\n",
              "      <td>0.135</td>\n",
              "      <td>0.065534</td>\n",
              "    </tr>\n",
              "    <tr>\n",
              "      <th>1</th>\n",
              "      <td>(0.138, 0.157]</td>\n",
              "      <td>200</td>\n",
              "      <td>23</td>\n",
              "      <td>0.138483</td>\n",
              "      <td>0.148690</td>\n",
              "      <td>0.115</td>\n",
              "      <td>0.055825</td>\n",
              "    </tr>\n",
              "    <tr>\n",
              "      <th>0</th>\n",
              "      <td>(0.0872, 0.138]</td>\n",
              "      <td>200</td>\n",
              "      <td>29</td>\n",
              "      <td>0.088184</td>\n",
              "      <td>0.120821</td>\n",
              "      <td>0.145</td>\n",
              "      <td>0.070388</td>\n",
              "    </tr>\n",
              "  </tbody>\n",
              "</table>\n",
              "</div>"
            ],
            "text/plain": [
              "          q_bucket  count  ...  precision  response_fraction\n",
              "9     (0.282, 0.4]    200  ...      0.245           0.118932\n",
              "8   (0.253, 0.282]    200  ...      0.295           0.143204\n",
              "7   (0.236, 0.253]    200  ...      0.285           0.138350\n",
              "6    (0.22, 0.236]    200  ...      0.265           0.128641\n",
              "5    (0.206, 0.22]    200  ...      0.155           0.075243\n",
              "4    (0.19, 0.206]    200  ...      0.205           0.099515\n",
              "3    (0.174, 0.19]    200  ...      0.215           0.104369\n",
              "2   (0.157, 0.174]    200  ...      0.135           0.065534\n",
              "1   (0.138, 0.157]    200  ...      0.115           0.055825\n",
              "0  (0.0872, 0.138]    200  ...      0.145           0.070388\n",
              "\n",
              "[10 rows x 7 columns]"
            ]
          },
          "metadata": {},
          "execution_count": 48
        }
      ]
    },
    {
      "cell_type": "code",
      "metadata": {
        "colab": {
          "base_uri": "https://localhost:8080/",
          "height": 363
        },
        "id": "MoyT0xx4psz7",
        "outputId": "63878b47-45aa-44b2-f3c6-45098dbbc1df"
      },
      "source": [
        "calib_table['cumulative_response_count'] = calib_table['response_count'].cumsum()\n",
        "calib_table['cumulative_count'] = calib_table['count'].cumsum()\n",
        "calib_table = calib_table.sort_index(ascending=True)\n",
        "calib_table"
      ],
      "execution_count": 49,
      "outputs": [
        {
          "output_type": "execute_result",
          "data": {
            "text/html": [
              "<div>\n",
              "<style scoped>\n",
              "    .dataframe tbody tr th:only-of-type {\n",
              "        vertical-align: middle;\n",
              "    }\n",
              "\n",
              "    .dataframe tbody tr th {\n",
              "        vertical-align: top;\n",
              "    }\n",
              "\n",
              "    .dataframe thead th {\n",
              "        text-align: right;\n",
              "    }\n",
              "</style>\n",
              "<table border=\"1\" class=\"dataframe\">\n",
              "  <thead>\n",
              "    <tr style=\"text-align: right;\">\n",
              "      <th></th>\n",
              "      <th>q_bucket</th>\n",
              "      <th>count</th>\n",
              "      <th>response_count</th>\n",
              "      <th>min_probability</th>\n",
              "      <th>mean_probability</th>\n",
              "      <th>precision</th>\n",
              "      <th>response_fraction</th>\n",
              "      <th>cumulative_response_count</th>\n",
              "      <th>cumulative_count</th>\n",
              "    </tr>\n",
              "  </thead>\n",
              "  <tbody>\n",
              "    <tr>\n",
              "      <th>0</th>\n",
              "      <td>(0.0872, 0.138]</td>\n",
              "      <td>200</td>\n",
              "      <td>29</td>\n",
              "      <td>0.088184</td>\n",
              "      <td>0.120821</td>\n",
              "      <td>0.145</td>\n",
              "      <td>0.070388</td>\n",
              "      <td>412</td>\n",
              "      <td>2000</td>\n",
              "    </tr>\n",
              "    <tr>\n",
              "      <th>1</th>\n",
              "      <td>(0.138, 0.157]</td>\n",
              "      <td>200</td>\n",
              "      <td>23</td>\n",
              "      <td>0.138483</td>\n",
              "      <td>0.148690</td>\n",
              "      <td>0.115</td>\n",
              "      <td>0.055825</td>\n",
              "      <td>383</td>\n",
              "      <td>1800</td>\n",
              "    </tr>\n",
              "    <tr>\n",
              "      <th>2</th>\n",
              "      <td>(0.157, 0.174]</td>\n",
              "      <td>200</td>\n",
              "      <td>27</td>\n",
              "      <td>0.157113</td>\n",
              "      <td>0.165961</td>\n",
              "      <td>0.135</td>\n",
              "      <td>0.065534</td>\n",
              "      <td>360</td>\n",
              "      <td>1600</td>\n",
              "    </tr>\n",
              "    <tr>\n",
              "      <th>3</th>\n",
              "      <td>(0.174, 0.19]</td>\n",
              "      <td>200</td>\n",
              "      <td>43</td>\n",
              "      <td>0.174146</td>\n",
              "      <td>0.182482</td>\n",
              "      <td>0.215</td>\n",
              "      <td>0.104369</td>\n",
              "      <td>333</td>\n",
              "      <td>1400</td>\n",
              "    </tr>\n",
              "    <tr>\n",
              "      <th>4</th>\n",
              "      <td>(0.19, 0.206]</td>\n",
              "      <td>200</td>\n",
              "      <td>41</td>\n",
              "      <td>0.190244</td>\n",
              "      <td>0.197849</td>\n",
              "      <td>0.205</td>\n",
              "      <td>0.099515</td>\n",
              "      <td>290</td>\n",
              "      <td>1200</td>\n",
              "    </tr>\n",
              "    <tr>\n",
              "      <th>5</th>\n",
              "      <td>(0.206, 0.22]</td>\n",
              "      <td>200</td>\n",
              "      <td>31</td>\n",
              "      <td>0.206326</td>\n",
              "      <td>0.212703</td>\n",
              "      <td>0.155</td>\n",
              "      <td>0.075243</td>\n",
              "      <td>249</td>\n",
              "      <td>1000</td>\n",
              "    </tr>\n",
              "    <tr>\n",
              "      <th>6</th>\n",
              "      <td>(0.22, 0.236]</td>\n",
              "      <td>200</td>\n",
              "      <td>53</td>\n",
              "      <td>0.219754</td>\n",
              "      <td>0.227197</td>\n",
              "      <td>0.265</td>\n",
              "      <td>0.128641</td>\n",
              "      <td>218</td>\n",
              "      <td>800</td>\n",
              "    </tr>\n",
              "    <tr>\n",
              "      <th>7</th>\n",
              "      <td>(0.236, 0.253]</td>\n",
              "      <td>200</td>\n",
              "      <td>57</td>\n",
              "      <td>0.236211</td>\n",
              "      <td>0.244190</td>\n",
              "      <td>0.285</td>\n",
              "      <td>0.138350</td>\n",
              "      <td>165</td>\n",
              "      <td>600</td>\n",
              "    </tr>\n",
              "    <tr>\n",
              "      <th>8</th>\n",
              "      <td>(0.253, 0.282]</td>\n",
              "      <td>200</td>\n",
              "      <td>59</td>\n",
              "      <td>0.252759</td>\n",
              "      <td>0.266226</td>\n",
              "      <td>0.295</td>\n",
              "      <td>0.143204</td>\n",
              "      <td>108</td>\n",
              "      <td>400</td>\n",
              "    </tr>\n",
              "    <tr>\n",
              "      <th>9</th>\n",
              "      <td>(0.282, 0.4]</td>\n",
              "      <td>200</td>\n",
              "      <td>49</td>\n",
              "      <td>0.282083</td>\n",
              "      <td>0.313099</td>\n",
              "      <td>0.245</td>\n",
              "      <td>0.118932</td>\n",
              "      <td>49</td>\n",
              "      <td>200</td>\n",
              "    </tr>\n",
              "  </tbody>\n",
              "</table>\n",
              "</div>"
            ],
            "text/plain": [
              "          q_bucket  count  ...  cumulative_response_count  cumulative_count\n",
              "0  (0.0872, 0.138]    200  ...                        412              2000\n",
              "1   (0.138, 0.157]    200  ...                        383              1800\n",
              "2   (0.157, 0.174]    200  ...                        360              1600\n",
              "3    (0.174, 0.19]    200  ...                        333              1400\n",
              "4    (0.19, 0.206]    200  ...                        290              1200\n",
              "5    (0.206, 0.22]    200  ...                        249              1000\n",
              "6    (0.22, 0.236]    200  ...                        218               800\n",
              "7   (0.236, 0.253]    200  ...                        165               600\n",
              "8   (0.253, 0.282]    200  ...                        108               400\n",
              "9     (0.282, 0.4]    200  ...                         49               200\n",
              "\n",
              "[10 rows x 9 columns]"
            ]
          },
          "metadata": {},
          "execution_count": 49
        }
      ]
    },
    {
      "cell_type": "code",
      "metadata": {
        "colab": {
          "base_uri": "https://localhost:8080/",
          "height": 557
        },
        "id": "cCk-CxMSp4dT",
        "outputId": "5a0c9214-ef36-4fa7-b509-679a8099bf5f"
      },
      "source": [
        "calib_table['cumulative_precision'] = calib_table['cumulative_response_count']/calib_table['cumulative_count']\n",
        "calib_table['cumulative_response_fraction'] = calib_table['cumulative_response_count'] / calib_table['response_count'].sum()\n",
        "calib_table"
      ],
      "execution_count": 50,
      "outputs": [
        {
          "output_type": "execute_result",
          "data": {
            "text/html": [
              "<div>\n",
              "<style scoped>\n",
              "    .dataframe tbody tr th:only-of-type {\n",
              "        vertical-align: middle;\n",
              "    }\n",
              "\n",
              "    .dataframe tbody tr th {\n",
              "        vertical-align: top;\n",
              "    }\n",
              "\n",
              "    .dataframe thead th {\n",
              "        text-align: right;\n",
              "    }\n",
              "</style>\n",
              "<table border=\"1\" class=\"dataframe\">\n",
              "  <thead>\n",
              "    <tr style=\"text-align: right;\">\n",
              "      <th></th>\n",
              "      <th>q_bucket</th>\n",
              "      <th>count</th>\n",
              "      <th>response_count</th>\n",
              "      <th>min_probability</th>\n",
              "      <th>mean_probability</th>\n",
              "      <th>precision</th>\n",
              "      <th>response_fraction</th>\n",
              "      <th>cumulative_response_count</th>\n",
              "      <th>cumulative_count</th>\n",
              "      <th>cumulative_precision</th>\n",
              "      <th>cumulative_response_fraction</th>\n",
              "    </tr>\n",
              "  </thead>\n",
              "  <tbody>\n",
              "    <tr>\n",
              "      <th>0</th>\n",
              "      <td>(0.0872, 0.138]</td>\n",
              "      <td>200</td>\n",
              "      <td>29</td>\n",
              "      <td>0.088184</td>\n",
              "      <td>0.120821</td>\n",
              "      <td>0.145</td>\n",
              "      <td>0.070388</td>\n",
              "      <td>412</td>\n",
              "      <td>2000</td>\n",
              "      <td>0.206000</td>\n",
              "      <td>1.000000</td>\n",
              "    </tr>\n",
              "    <tr>\n",
              "      <th>1</th>\n",
              "      <td>(0.138, 0.157]</td>\n",
              "      <td>200</td>\n",
              "      <td>23</td>\n",
              "      <td>0.138483</td>\n",
              "      <td>0.148690</td>\n",
              "      <td>0.115</td>\n",
              "      <td>0.055825</td>\n",
              "      <td>383</td>\n",
              "      <td>1800</td>\n",
              "      <td>0.212778</td>\n",
              "      <td>0.929612</td>\n",
              "    </tr>\n",
              "    <tr>\n",
              "      <th>2</th>\n",
              "      <td>(0.157, 0.174]</td>\n",
              "      <td>200</td>\n",
              "      <td>27</td>\n",
              "      <td>0.157113</td>\n",
              "      <td>0.165961</td>\n",
              "      <td>0.135</td>\n",
              "      <td>0.065534</td>\n",
              "      <td>360</td>\n",
              "      <td>1600</td>\n",
              "      <td>0.225000</td>\n",
              "      <td>0.873786</td>\n",
              "    </tr>\n",
              "    <tr>\n",
              "      <th>3</th>\n",
              "      <td>(0.174, 0.19]</td>\n",
              "      <td>200</td>\n",
              "      <td>43</td>\n",
              "      <td>0.174146</td>\n",
              "      <td>0.182482</td>\n",
              "      <td>0.215</td>\n",
              "      <td>0.104369</td>\n",
              "      <td>333</td>\n",
              "      <td>1400</td>\n",
              "      <td>0.237857</td>\n",
              "      <td>0.808252</td>\n",
              "    </tr>\n",
              "    <tr>\n",
              "      <th>4</th>\n",
              "      <td>(0.19, 0.206]</td>\n",
              "      <td>200</td>\n",
              "      <td>41</td>\n",
              "      <td>0.190244</td>\n",
              "      <td>0.197849</td>\n",
              "      <td>0.205</td>\n",
              "      <td>0.099515</td>\n",
              "      <td>290</td>\n",
              "      <td>1200</td>\n",
              "      <td>0.241667</td>\n",
              "      <td>0.703883</td>\n",
              "    </tr>\n",
              "    <tr>\n",
              "      <th>5</th>\n",
              "      <td>(0.206, 0.22]</td>\n",
              "      <td>200</td>\n",
              "      <td>31</td>\n",
              "      <td>0.206326</td>\n",
              "      <td>0.212703</td>\n",
              "      <td>0.155</td>\n",
              "      <td>0.075243</td>\n",
              "      <td>249</td>\n",
              "      <td>1000</td>\n",
              "      <td>0.249000</td>\n",
              "      <td>0.604369</td>\n",
              "    </tr>\n",
              "    <tr>\n",
              "      <th>6</th>\n",
              "      <td>(0.22, 0.236]</td>\n",
              "      <td>200</td>\n",
              "      <td>53</td>\n",
              "      <td>0.219754</td>\n",
              "      <td>0.227197</td>\n",
              "      <td>0.265</td>\n",
              "      <td>0.128641</td>\n",
              "      <td>218</td>\n",
              "      <td>800</td>\n",
              "      <td>0.272500</td>\n",
              "      <td>0.529126</td>\n",
              "    </tr>\n",
              "    <tr>\n",
              "      <th>7</th>\n",
              "      <td>(0.236, 0.253]</td>\n",
              "      <td>200</td>\n",
              "      <td>57</td>\n",
              "      <td>0.236211</td>\n",
              "      <td>0.244190</td>\n",
              "      <td>0.285</td>\n",
              "      <td>0.138350</td>\n",
              "      <td>165</td>\n",
              "      <td>600</td>\n",
              "      <td>0.275000</td>\n",
              "      <td>0.400485</td>\n",
              "    </tr>\n",
              "    <tr>\n",
              "      <th>8</th>\n",
              "      <td>(0.253, 0.282]</td>\n",
              "      <td>200</td>\n",
              "      <td>59</td>\n",
              "      <td>0.252759</td>\n",
              "      <td>0.266226</td>\n",
              "      <td>0.295</td>\n",
              "      <td>0.143204</td>\n",
              "      <td>108</td>\n",
              "      <td>400</td>\n",
              "      <td>0.270000</td>\n",
              "      <td>0.262136</td>\n",
              "    </tr>\n",
              "    <tr>\n",
              "      <th>9</th>\n",
              "      <td>(0.282, 0.4]</td>\n",
              "      <td>200</td>\n",
              "      <td>49</td>\n",
              "      <td>0.282083</td>\n",
              "      <td>0.313099</td>\n",
              "      <td>0.245</td>\n",
              "      <td>0.118932</td>\n",
              "      <td>49</td>\n",
              "      <td>200</td>\n",
              "      <td>0.245000</td>\n",
              "      <td>0.118932</td>\n",
              "    </tr>\n",
              "  </tbody>\n",
              "</table>\n",
              "</div>"
            ],
            "text/plain": [
              "          q_bucket  count  ...  cumulative_precision  cumulative_response_fraction\n",
              "0  (0.0872, 0.138]    200  ...              0.206000                      1.000000\n",
              "1   (0.138, 0.157]    200  ...              0.212778                      0.929612\n",
              "2   (0.157, 0.174]    200  ...              0.225000                      0.873786\n",
              "3    (0.174, 0.19]    200  ...              0.237857                      0.808252\n",
              "4    (0.19, 0.206]    200  ...              0.241667                      0.703883\n",
              "5    (0.206, 0.22]    200  ...              0.249000                      0.604369\n",
              "6    (0.22, 0.236]    200  ...              0.272500                      0.529126\n",
              "7   (0.236, 0.253]    200  ...              0.275000                      0.400485\n",
              "8   (0.253, 0.282]    200  ...              0.270000                      0.262136\n",
              "9     (0.282, 0.4]    200  ...              0.245000                      0.118932\n",
              "\n",
              "[10 rows x 11 columns]"
            ]
          },
          "metadata": {},
          "execution_count": 50
        }
      ]
    },
    {
      "cell_type": "code",
      "metadata": {
        "colab": {
          "base_uri": "https://localhost:8080/",
          "height": 302
        },
        "id": "W91dgDsap6u7",
        "outputId": "e8075a73-39fc-4abd-dc65-4d09ccb974e7"
      },
      "source": [
        "calib_table.plot(x='mean_probability', y='response_fraction', marker='o')"
      ],
      "execution_count": 51,
      "outputs": [
        {
          "output_type": "execute_result",
          "data": {
            "text/plain": [
              "<matplotlib.axes._subplots.AxesSubplot at 0x7f53c6c4f210>"
            ]
          },
          "metadata": {},
          "execution_count": 51
        },
        {
          "output_type": "display_data",
          "data": {
            "image/png": "[encoded data removed]",
            "text/plain": [
              "<Figure size 432x288 with 1 Axes>"
            ]
          },
          "metadata": {}
        }
      ]
    },
    {
      "cell_type": "code",
      "metadata": {
        "colab": {
          "base_uri": "https://localhost:8080/",
          "height": 269
        },
        "id": "-7rAXVQaqBq7",
        "outputId": "bc4850a3-3d9f-4e10-8462-c76f79b3c722"
      },
      "source": [
        "cmap = cm.get_cmap('cool') \n",
        "\n",
        "fpr, tpr, thresholds = metrics.roc_curve(test_result['y_act'], test_result['y_pred_prob'], pos_label=1)\n",
        "\n",
        "roc = pd.DataFrame(data={'Thresholds':thresholds[1:], 'FPR':fpr[1:], 'TPR':tpr[1:]})\n",
        "roc.plot(kind='scatter', x='FPR', y='TPR', c='Thresholds', cmap=cmap)\n",
        "\n",
        "roc_auc = metrics.roc_auc_score(test_result['y_act'], test_result['y_pred_prob'])\n",
        "\n",
        "print(F\"ROC AUC Score = {roc_auc}\")"
      ],
      "execution_count": 54,
      "outputs": [
        {
          "output_type": "stream",
          "name": "stdout",
          "text": [
            "ROC AUC Score = 0.5929345699542687\n"
          ]
        },
        {
          "output_type": "display_data",
          "data": {
            "image/png": "[encoded data removed]",
            "text/plain": [
              "<Figure size 432x288 with 2 Axes>"
            ]
          },
          "metadata": {}
        }
      ]
    },
    {
      "cell_type": "code",
      "metadata": {
        "colab": {
          "base_uri": "https://localhost:8080/",
          "height": 206
        },
        "id": "wpr59G0zrShU",
        "outputId": "9b4f4a26-5eda-4d11-aafb-2ab6f1290701"
      },
      "source": [
        "roc.head()"
      ],
      "execution_count": 55,
      "outputs": [
        {
          "output_type": "execute_result",
          "data": {
            "text/html": [
              "<div>\n",
              "<style scoped>\n",
              "    .dataframe tbody tr th:only-of-type {\n",
              "        vertical-align: middle;\n",
              "    }\n",
              "\n",
              "    .dataframe tbody tr th {\n",
              "        vertical-align: top;\n",
              "    }\n",
              "\n",
              "    .dataframe thead th {\n",
              "        text-align: right;\n",
              "    }\n",
              "</style>\n",
              "<table border=\"1\" class=\"dataframe\">\n",
              "  <thead>\n",
              "    <tr style=\"text-align: right;\">\n",
              "      <th></th>\n",
              "      <th>Thresholds</th>\n",
              "      <th>FPR</th>\n",
              "      <th>TPR</th>\n",
              "    </tr>\n",
              "  </thead>\n",
              "  <tbody>\n",
              "    <tr>\n",
              "      <th>0</th>\n",
              "      <td>0.400294</td>\n",
              "      <td>0.000000</td>\n",
              "      <td>0.002427</td>\n",
              "    </tr>\n",
              "    <tr>\n",
              "      <th>1</th>\n",
              "      <td>0.375791</td>\n",
              "      <td>0.001259</td>\n",
              "      <td>0.002427</td>\n",
              "    </tr>\n",
              "    <tr>\n",
              "      <th>2</th>\n",
              "      <td>0.367055</td>\n",
              "      <td>0.001259</td>\n",
              "      <td>0.007282</td>\n",
              "    </tr>\n",
              "    <tr>\n",
              "      <th>3</th>\n",
              "      <td>0.361382</td>\n",
              "      <td>0.003149</td>\n",
              "      <td>0.007282</td>\n",
              "    </tr>\n",
              "    <tr>\n",
              "      <th>4</th>\n",
              "      <td>0.360212</td>\n",
              "      <td>0.003149</td>\n",
              "      <td>0.009709</td>\n",
              "    </tr>\n",
              "  </tbody>\n",
              "</table>\n",
              "</div>"
            ],
            "text/plain": [
              "   Thresholds       FPR       TPR\n",
              "0    0.400294  0.000000  0.002427\n",
              "1    0.375791  0.001259  0.002427\n",
              "2    0.367055  0.001259  0.007282\n",
              "3    0.361382  0.003149  0.007282\n",
              "4    0.360212  0.003149  0.009709"
            ]
          },
          "metadata": {},
          "execution_count": 55
        }
      ]
    },
    {
      "cell_type": "code",
      "metadata": {
        "colab": {
          "base_uri": "https://localhost:8080/",
          "height": 270
        },
        "id": "GZOM-tmErYjd",
        "outputId": "0ff14525-bad7-4bb9-bb99-fa57799e34f8"
      },
      "source": [
        "precision, recall, thresholds = metrics.precision_recall_curve(test_result['y_act'], test_result['y_pred_prob'], pos_label=1)\n",
        "\n",
        "prc = pd.DataFrame(data={'Thresholds':thresholds, 'Precision':precision[:-1], 'Recall':recall[:-1]})\n",
        "prc.plot(kind='scatter', x='Recall', y='Precision', c='Thresholds', cmap=cmap)"
      ],
      "execution_count": 56,
      "outputs": [
        {
          "output_type": "execute_result",
          "data": {
            "text/plain": [
              "<matplotlib.axes._subplots.AxesSubplot at 0x7f53c69d6a50>"
            ]
          },
          "metadata": {},
          "execution_count": 56
        },
        {
          "output_type": "display_data",
          "data": {
            "image/png": "[encoded data removed]",
            "text/plain": [
              "<Figure size 432x288 with 2 Axes>"
            ]
          },
          "metadata": {}
        }
      ]
    }
  ]
}